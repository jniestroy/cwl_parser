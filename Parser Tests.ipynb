{
 "cells": [
  {
   "cell_type": "code",
   "execution_count": 1,
   "metadata": {},
   "outputs": [],
   "source": [
    "import parser"
   ]
  },
  {
   "cell_type": "code",
   "execution_count": 2,
   "metadata": {},
   "outputs": [
    {
     "data": {
      "text/plain": [
       "{'@context': {'wfdesc': 'https://wf4ever.github.io/ro/2016-01-28/wfdesc/'},\n",
       " '@type': 'wfdesc:Wokflow',\n",
       " 'name': 'failing.cwl',\n",
       " 'wfdesc:hasInput': [{'@type': 'wfdesc:Parameter',\n",
       "   'name': 'input_file',\n",
       "   'datatype': 'File',\n",
       "   'file': 'ttps://storage.googleapis.com/topmed_workflow_testing/topmed_aligner/input_files/NWD176325.0005.recab.cra'},\n",
       "  {'@type': 'wfdesc:Parameter',\n",
       "   'name': 'bwa_index',\n",
       "   'datatype': 'File',\n",
       "   'file': 'https://storage.googleapis.com/topmed_workflow_testing/topmed_aligner/reference_files/hg38/hs38DH.fa.tar'},\n",
       "  {'@type': 'wfdesc:Parameter',\n",
       "   'name': 'reference_genome',\n",
       "   'datatype': 'File',\n",
       "   'file': 'Looks like above'},\n",
       "  {'@type': 'wfdesc:Parameter',\n",
       "   'name': 'dbsnp',\n",
       "   'datatype': 'File?',\n",
       "   'value': {'class': 'File',\n",
       "    'path': 'https://storage.googleapis.com/topmed_workflow_testing/topmed_aligner/reference_files/hg38/Homo_sapiens_assembly38.dbsnp138.vcf.gz'}},\n",
       "  {'@type': 'wfdesc:Parameter',\n",
       "   'name': 'decomp_ref',\n",
       "   'datatype': 'File?',\n",
       "   'value': None},\n",
       "  {'@type': 'wfdesc:Parameter',\n",
       "   'name': 'threads',\n",
       "   'datatype': 'int?',\n",
       "   'value': None},\n",
       "  {'@type': 'wfdesc:Parameter',\n",
       "   'name': 'ram_min',\n",
       "   'datatype': 'int?',\n",
       "   'value': None},\n",
       "  {'@type': 'wfdesc:Parameter',\n",
       "   'name': 'cores_min',\n",
       "   'datatype': 'int?',\n",
       "   'value': None}],\n",
       " 'wfdesc:hasProcess': ['topmed_pre_align',\n",
       "  'topmed_align',\n",
       "  'samtools_sort',\n",
       "  'topmed_post_align'],\n",
       " 'wfdesc:hasSubWorkflow': [],\n",
       " 'wfdesc:hasOutput': [{'@type': 'wfdesc:Parameter',\n",
       "   'name': 'output',\n",
       "   'datatype': 'File?',\n",
       "   'outputSource': 'topmed_post_align/output'}]}"
      ]
     },
     "execution_count": 2,
     "metadata": {},
     "output_type": "execute_result"
    }
   ],
   "source": [
    "parser.parse_wf(\"failing.cwl\",\"2nd_input.yaml\",'./workflows/')"
   ]
  },
  {
   "cell_type": "code",
   "execution_count": 3,
   "metadata": {},
   "outputs": [
    {
     "data": {
      "text/plain": [
       "{'@context': {'wfdesc': 'https://wf4ever.github.io/ro/2016-01-28/wfdesc/'},\n",
       " '@type': 'wfdesc:Wokflow',\n",
       " 'name': '1st-workflow.cwl',\n",
       " 'wfdesc:hasInput': [{'@type': 'wfdesc:Parameter',\n",
       "   'name': 'tarball',\n",
       "   'datatype': 'File',\n",
       "   'file': 'hello.tar',\n",
       "   'value': {'class': 'File', 'path': 'hello.tar'}},\n",
       "  {'@type': 'wfdesc:Parameter',\n",
       "   'name': 'name_of_file_to_extract',\n",
       "   'datatype': 'string',\n",
       "   'value': 'Hello.java'}],\n",
       " 'wfdesc:hasProcess': [{'@type': 'wfdesc:Process',\n",
       "   'name': 'untar',\n",
       "   'commandRun': ['tar', '--extract'],\n",
       "   'wfdesc:hasInput': [{'@type': 'wfdesc:Parameter',\n",
       "     'name': 'tarfile',\n",
       "     'datatype': 'File',\n",
       "     'value': 'tarball'},\n",
       "    {'@type': 'wfdesc:Parameter',\n",
       "     'name': 'extractfile',\n",
       "     'datatype': 'string',\n",
       "     'value': 'name_of_file_to_extract'}],\n",
       "   'wfdesc:hasOutput': [{'@type': 'wfdesc:Parameter',\n",
       "     'name': 'extracted_file',\n",
       "     'datatype': 'File'}]},\n",
       "  'compile'],\n",
       " 'wfdesc:hasSubWorkflow': [],\n",
       " 'wfdesc:hasOutput': [{'@type': 'wfdesc:Parameter',\n",
       "   'name': 'compiled_class',\n",
       "   'datatype': 'File',\n",
       "   'outputSource': 'compile/classfile'}]}"
      ]
     },
     "execution_count": 3,
     "metadata": {},
     "output_type": "execute_result"
    }
   ],
   "source": [
    "parser.parse_wf('1st-workflow.cwl','1st-workflow-job.yml','./workflows/')"
   ]
  },
  {
   "cell_type": "code",
   "execution_count": 5,
   "metadata": {},
   "outputs": [
    {
     "data": {
      "text/plain": [
       "{'@context': {'wfdesc': 'https://wf4ever.github.io/ro/2016-01-28/wfdesc/'},\n",
       " '@type': 'wfdesc:Wokflow',\n",
       " 'name': 'test_workflow.cwl',\n",
       " 'wfdesc:hasInput': [{'@type': 'wfdesc:Parameter',\n",
       "   'name': 'num1',\n",
       "   'datatype': 'int',\n",
       "   'value': 4},\n",
       "  {'@type': 'wfdesc:Parameter',\n",
       "   'name': 'num2',\n",
       "   'datatype': 'int',\n",
       "   'value': 13}],\n",
       " 'wfdesc:hasProcess': [{'@type': 'wfdesc:Process',\n",
       "   'name': 'add',\n",
       "   'commandRun': ['python3',\n",
       "    '/Users/justinniestroy-admin/Documents/Work/Randall Data/houlter data/add.py'],\n",
       "   'wfdesc:hasInput': [{'@type': 'wfdesc:Parameter',\n",
       "     'name': 'x',\n",
       "     'datatype': 'int',\n",
       "     'value': 'num1'},\n",
       "    {'@type': 'wfdesc:Parameter',\n",
       "     'name': 'y',\n",
       "     'datatype': 'int',\n",
       "     'value': 'num2'}],\n",
       "   'wfdesc:hasOutput': [{'@type': 'wfdesc:Parameter',\n",
       "     'name': 'answer',\n",
       "     'datatype': 'int'}]},\n",
       "  {'@type': 'wfdesc:Process',\n",
       "   'name': 'multiply',\n",
       "   'commandRun': ['python3',\n",
       "    '/Users/justinniestroy-admin/Documents/Work/Randall Data/houlter data/multiply.py'],\n",
       "   'wfdesc:hasInput': [{'@type': 'wfdesc:Parameter',\n",
       "     'name': 'x',\n",
       "     'datatype': 'int',\n",
       "     'value': 'add/answer'},\n",
       "    {'@type': 'wfdesc:Parameter',\n",
       "     'name': 'y',\n",
       "     'datatype': 'int',\n",
       "     'value': 'num2'}],\n",
       "   'wfdesc:hasOutput': [{'@type': 'wfdesc:Parameter',\n",
       "     'name': 'answer',\n",
       "     'datatype': 'int'}]}],\n",
       " 'wfdesc:hasSubWorkflow': [],\n",
       " 'wfdesc:hasOutput': [{'@type': 'wfdesc:Parameter',\n",
       "   'name': 'final_answer',\n",
       "   'datatype': 'int',\n",
       "   'outputSource': 'multiply/answer'}]}"
      ]
     },
     "execution_count": 5,
     "metadata": {},
     "output_type": "execute_result"
    }
   ],
   "source": [
    "parser.parse_wf('test_workflow.cwl','test.yaml','./workflows/')"
   ]
  },
  {
   "cell_type": "code",
   "execution_count": 6,
   "metadata": {},
   "outputs": [
    {
     "data": {
      "text/plain": [
       "{'@context': {'wfdesc': 'https://wf4ever.github.io/ro/2016-01-28/wfdesc/'},\n",
       " '@type': 'wfdesc:Wokflow',\n",
       " 'name': 'docker_wf.cwl',\n",
       " 'wfdesc:hasInput': [{'@type': 'wfdesc:Parameter',\n",
       "   'name': 'inputFileDirectory',\n",
       "   'datatype': 'Directory',\n",
       "   'value': None},\n",
       "  {'@type': 'wfdesc:Parameter',\n",
       "   'name': 'tumour',\n",
       "   'datatype': 'TumourType.yaml#TumourType',\n",
       "   'value': None},\n",
       "  {'@type': 'wfdesc:Parameter',\n",
       "   'name': 'indel-padding',\n",
       "   'datatype': 'string',\n",
       "   'value': None},\n",
       "  {'@type': 'wfdesc:Parameter',\n",
       "   'name': 'snv-padding',\n",
       "   'datatype': 'string',\n",
       "   'value': None},\n",
       "  {'@type': 'wfdesc:Parameter',\n",
       "   'name': 'sv-padding',\n",
       "   'datatype': 'string',\n",
       "   'value': None},\n",
       "  'Error parsing cwl. Check all inputs match expected names.'],\n",
       " 'wfdesc:hasProcess': ['sub_run_var_bam'],\n",
       " 'wfdesc:hasSubWorkflow': [],\n",
       " 'wfdesc:hasOutput': [{'@type': 'wfdesc:Parameter',\n",
       "   'name': 'minibam',\n",
       "   'datatype': 'File',\n",
       "   'outputSource': 'sub_run_var_bam/minibam'},\n",
       "  {'@type': 'wfdesc:Parameter',\n",
       "   'name': 'minibamIndex',\n",
       "   'datatype': 'File',\n",
       "   'outputSource': 'sub_run_var_bam/minibamIndex'}]}"
      ]
     },
     "execution_count": 6,
     "metadata": {},
     "output_type": "execute_result"
    }
   ],
   "source": [
    "parser.parse_wf(\"docker_wf.cwl\",'input.yaml','./workflows/')"
   ]
  },
  {
   "cell_type": "code",
   "execution_count": null,
   "metadata": {},
   "outputs": [],
   "source": [
    "parser.parse_wf(\"2nd_docker_test.cwl\",\"2nd_input.yaml\")"
   ]
  },
  {
   "cell_type": "code",
   "execution_count": 1,
   "metadata": {},
   "outputs": [
    {
     "data": {
      "text/plain": [
       "{'class': 'Workflow',\n",
       " 'cwlVersion': 'v1.0',\n",
       " 'id': 'topmed_alignment',\n",
       " 'doc': 'A CWL wrapper of the TopMed alignment workflow described here: https://github.com/statgen/docker-alignment Tool Author: Hyun Min Kang (hmkang@umich.edu) and Adrian Tan (atks@umich.edu) Wrapper Author: Marko Zecevic (marko.zecevic@sbgenomics.com)',\n",
       " 'label': 'TOPMed Alignment',\n",
       " '$namespaces': {'sbg': 'https://sevenbridges.com'},\n",
       " 'inputs': [{'id': 'input_file',\n",
       "   'sbg:fileTypes': 'CRAM',\n",
       "   'type': 'File',\n",
       "   'label': 'Input CRAM file',\n",
       "   'sbg:x': -253.4855499267578,\n",
       "   'sbg:y': 25.186986923217773},\n",
       "  {'id': 'bwa_index',\n",
       "   'sbg:fileTypes': 'TAR',\n",
       "   'type': 'File',\n",
       "   'label': 'BWA Index',\n",
       "   'sbg:x': 114.04255676269531,\n",
       "   'sbg:y': 179.9574432373047},\n",
       "  {'id': 'reference_genome',\n",
       "   'sbg:fileTypes': 'FA, FASTA',\n",
       "   'type': 'File',\n",
       "   'label': 'Reference for output CRAM compressing',\n",
       "   'sbg:x': -106.77165222167969,\n",
       "   'sbg:y': -187.8012237548828},\n",
       "  {'id': 'dbsnp',\n",
       "   'sbg:fileTypes': 'VCF, VCF.GZ',\n",
       "   'type': 'File?',\n",
       "   'label': 'dbSNP VCF file',\n",
       "   'sbg:x': 400,\n",
       "   'sbg:y': 222},\n",
       "  {'id': 'decomp_ref',\n",
       "   'sbg:fileTypes': 'FASTA, FA',\n",
       "   'type': 'File?',\n",
       "   'label': 'Reference for input CRAM decompressing',\n",
       "   'sbg:x': -152.35092163085938,\n",
       "   'sbg:y': 139.45030212402344},\n",
       "  {'id': 'threads', 'type': 'int?', 'label': 'Number of threads'},\n",
       "  {'id': 'ram_min', 'type': 'int?', 'label': 'Minimum amount of RAM'},\n",
       "  {'id': 'cores_min', 'type': 'int?', 'label': 'Minimum number of cores'}],\n",
       " 'outputs': [{'id': 'output',\n",
       "   'outputSource': 'topmed_post_align/output',\n",
       "   'sbg:fileTypes': 'CRAM',\n",
       "   'type': 'File?',\n",
       "   'label': 'Output CRAM file',\n",
       "   'sbg:x': 861,\n",
       "   'sbg:y': -72}],\n",
       " 'steps': [{'id': 'topmed_pre_align',\n",
       "   'in': [{'id': 'input_file', 'source': 'input_file'},\n",
       "    {'id': 'decomp_ref', 'source': 'decomp_ref'},\n",
       "    {'id': 'comp_ref', 'source': 'reference_genome'},\n",
       "    {'id': 'threads', 'source': 'threads', 'default': 1},\n",
       "    {'id': 'ram_min', 'source': 'ram_min', 'default': 7500},\n",
       "    {'id': 'cores_min', 'source': 'cores_min', 'default': 8}],\n",
       "   'out': [{'id': 'fastq'}, {'id': 'list'}],\n",
       "   'run': 'steps/pre-align.cwl',\n",
       "   'label': 'Pre-align 1.0',\n",
       "   'sbg:x': 130.828125,\n",
       "   'sbg:y': 0},\n",
       "  {'id': 'topmed_align',\n",
       "   'in': [{'id': 'reference', 'source': 'bwa_index'},\n",
       "    {'id': 'fastq', 'source': 'topmed_pre_align/fastq'},\n",
       "    {'id': 'list', 'source': 'topmed_pre_align/list'},\n",
       "    {'id': 'ram_min', 'source': 'ram_min', 'default': 14000},\n",
       "    {'id': 'cores_min', 'source': 'cores_min', 'default': 8}],\n",
       "   'out': [{'id': 'cram'}],\n",
       "   'run': 'steps/align.cwl',\n",
       "   'label': 'Align 1.0',\n",
       "   'scatter': ['fastq'],\n",
       "   'scatterMethod': 'dotproduct',\n",
       "   'sbg:x': 307,\n",
       "   'sbg:y': 63.021278381347656},\n",
       "  {'id': 'samtools_sort',\n",
       "   'in': [{'id': 'reference', 'source': 'reference_genome'},\n",
       "    {'id': 'input_file', 'source': 'topmed_align/cram'},\n",
       "    {'id': 'threads', 'source': 'threads', 'default': 1},\n",
       "    {'id': 'ram_min', 'source': 'ram_min', 'default': 7000},\n",
       "    {'id': 'cores_min', 'source': 'cores_min', 'default': 2}],\n",
       "   'out': [{'id': 'output'}],\n",
       "   'run': 'steps/samtools-sort.cwl',\n",
       "   'label': 'SAMtools Sort',\n",
       "   'scatter': ['input_file'],\n",
       "   'scatterMethod': 'dotproduct',\n",
       "   'sbg:x': 482.89361572265625,\n",
       "   'sbg:y': -1.872340440750122},\n",
       "  {'id': 'topmed_post_align',\n",
       "   'in': [{'id': 'reference', 'source': 'reference_genome'},\n",
       "    {'id': 'dbsnp', 'source': 'dbsnp'},\n",
       "    {'id': 'alignment_files', 'source': 'samtools_sort/output'},\n",
       "    {'id': 'input_cram', 'source': 'input_file'},\n",
       "    {'id': 'threads', 'source': 'threads', 'default': 1},\n",
       "    {'id': 'ram_min', 'source': 'ram_min', 'default': 7500},\n",
       "    {'id': 'cores_min', 'source': 'cores_min', 'default': 8}],\n",
       "   'out': [{'id': 'output'}],\n",
       "   'run': 'steps/post-align.cwl',\n",
       "   'label': 'Post-align',\n",
       "   'sbg:x': 668.5106811523438,\n",
       "   'sbg:y': 8.829793930053711}],\n",
       " 'hints': [{'class': 'sbg:maxNumberOfParallelInstances', 'value': '8'}],\n",
       " 'requirements': [{'class': 'ScatterFeatureRequirement'},\n",
       "  {'class': 'MultipleInputFeatureRequirement'}],\n",
       " 'dct:creator': {'foaf:mbox': 'mailto:support@sbgenomics.com',\n",
       "  'foaf:name': 'Seven Bridges'},\n",
       " 'sbg:categories': ['Alignment'],\n",
       " 'sbg:links': [{'id': 'https://github.com/statgen/docker-alignment',\n",
       "   'label': 'github'}],\n",
       " 'sbg:toolAuthor': 'Hyun Min Kang (hmkang@umich.edu) and Adrian Tan (atks@umich.edu)',\n",
       " 'sbg:wrapperAuthor': 'Marko Zecevic (marko.zecevic@sbgenomics.com)'}"
      ]
     },
     "execution_count": 1,
     "metadata": {},
     "output_type": "execute_result"
    }
   ],
   "source": [
    "import yaml\n",
    "cwl_file_path = \"failing.cwl\"\n",
    "with open(cwl_file_path, 'r') as cwl_file:  \n",
    "    cwl_dict = yaml.safe_load(cwl_file)\n",
    "cwl_dict"
   ]
  },
  {
   "cell_type": "code",
   "execution_count": 2,
   "metadata": {},
   "outputs": [
    {
     "data": {
      "text/plain": [
       "{'cwlVersion': 'v1.0',\n",
       " 'doc': 'This is a subworkflow of the main oxog_varbam_annotat_wf workflow - this is not meant to be\\nrun as a stand-alone workflow!\\n',\n",
       " 'requirements': [{'class': 'SchemaDefRequirement',\n",
       "   'types': [{'$import': 'TumourType.yaml'}]},\n",
       "  {'class': 'ScatterFeatureRequirement'},\n",
       "  {'class': 'StepInputExpressionRequirement'},\n",
       "  {'class': 'MultipleInputFeatureRequirement'},\n",
       "  {'class': 'InlineJavascriptRequirement',\n",
       "   'expressionLib': [{'$include': 'varbam_util.js'}]},\n",
       "  {'class': 'SubworkflowFeatureRequirement'}],\n",
       " 'class': 'Workflow',\n",
       " 'outputs': {'minibam': {'outputSource': 'sub_run_var_bam/minibam',\n",
       "   'type': 'File'},\n",
       "  'minibamIndex': {'outputSource': 'sub_run_var_bam/minibamIndex',\n",
       "   'type': 'File'}},\n",
       " 'inputs': {'inputFileDirectory': {'type': 'Directory'},\n",
       "  'tumour': {'type': 'TumourType.yaml#TumourType'},\n",
       "  'indel-padding': {'type': 'string'},\n",
       "  'snv-padding': {'type': 'string'},\n",
       "  'sv-padding': {'type': 'string'},\n",
       "  'input-indel': {'type': 'File'},\n",
       "  'input-snv': {'type': 'File'},\n",
       "  'input-sv': {'type': 'File'}},\n",
       " 'steps': {'sub_run_var_bam': {'run': 'Variantbam-for-dockstore/variantbam.cwl',\n",
       "   'in': {'input-bam': {'source': ['inputFileDirectory', 'tumour'],\n",
       "     'valueFrom': '${\\n    return { \"class\":\"File\", \"location\": self[0].location + \"/\" + self[1].bamFileName }\\n}\\n'},\n",
       "    'outfile': {'source': ['tumour'],\n",
       "     'valueFrom': '$(\"mini-\".concat(self.tumourId).concat(\".bam\"))'},\n",
       "    'snv-padding': 'snv-padding',\n",
       "    'sv-padding': 'sv-padding',\n",
       "    'indel-padding': 'indel-padding',\n",
       "    'input-snv': 'input-snv',\n",
       "    'input-sv': 'input-sv',\n",
       "    'input-indel': 'input-indel'},\n",
       "   'out': ['minibam', 'minibamIndex']}}}"
      ]
     },
     "execution_count": 2,
     "metadata": {},
     "output_type": "execute_result"
    }
   ],
   "source": [
    "import yaml\n",
    "cwl_file_path = \"docker_wf.cwl\"\n",
    "with open(cwl_file_path, 'r') as cwl_file:  \n",
    "    cwl_dict = yaml.safe_load(cwl_file)\n",
    "cwl_dict"
   ]
  },
  {
   "cell_type": "code",
   "execution_count": null,
   "metadata": {},
   "outputs": [],
   "source": []
  }
 ],
 "metadata": {
  "kernelspec": {
   "display_name": "Python 3",
   "language": "python",
   "name": "python3"
  },
  "language_info": {
   "codemirror_mode": {
    "name": "ipython",
    "version": 3
   },
   "file_extension": ".py",
   "mimetype": "text/x-python",
   "name": "python",
   "nbconvert_exporter": "python",
   "pygments_lexer": "ipython3",
   "version": "3.7.4"
  }
 },
 "nbformat": 4,
 "nbformat_minor": 2
}
