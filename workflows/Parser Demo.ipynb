{
 "cells": [
  {
   "cell_type": "code",
   "execution_count": 1,
   "metadata": {},
   "outputs": [],
   "source": [
    "import parser"
   ]
  },
  {
   "cell_type": "code",
   "execution_count": 2,
   "metadata": {},
   "outputs": [
    {
     "data": {
      "text/plain": [
       "{'@type': 'wfdesc:Wokflow',\n",
       " 'wfdesc:hasInput': ['Error parsing cwl. Check all inputs match expected names.'],\n",
       " 'wfdesc:hasProcess': [{'@type': 'wfdesc:Process',\n",
       "   'name': 'untar',\n",
       "   'commandRun': ['tar', '--extract'],\n",
       "   'wfdesc:hasInput': [{'@type': 'wfdesc:Parameter',\n",
       "     'name': 'tarfile',\n",
       "     'datatype': 'File',\n",
       "     'value': 'tarball'},\n",
       "    {'@type': 'wfdesc:Parameter',\n",
       "     'name': 'extractfile',\n",
       "     'datatype': 'string',\n",
       "     'value': 'name_of_file_to_extract'}],\n",
       "   'wfdesc:hasOutput': [{'@type': 'wfdesc:Parameter',\n",
       "     'name': 'extracted_file',\n",
       "     'datatype': 'File'}]},\n",
       "  'compile'],\n",
       " 'wfdesc:hasSubWorkflow': [],\n",
       " 'wfdesc:hasOutput': [{'@type': 'wfdesc:Parameter',\n",
       "   'name': 'compiled_class',\n",
       "   'datatype': 'File',\n",
       "   'outputSource': 'compile/classfile'}]}"
      ]
     },
     "execution_count": 2,
     "metadata": {},
     "output_type": "execute_result"
    }
   ],
   "source": [
    "parser.parse_wf('1st-workflow.cwl','1st-workflow-job.yml')"
   ]
  },
  {
   "cell_type": "code",
   "execution_count": null,
   "metadata": {},
   "outputs": [],
   "source": []
  }
 ],
 "metadata": {
  "kernelspec": {
   "display_name": "Python 3",
   "language": "python",
   "name": "python3"
  },
  "language_info": {
   "codemirror_mode": {
    "name": "ipython",
    "version": 3
   },
   "file_extension": ".py",
   "mimetype": "text/x-python",
   "name": "python",
   "nbconvert_exporter": "python",
   "pygments_lexer": "ipython3",
   "version": "3.7.4"
  }
 },
 "nbformat": 4,
 "nbformat_minor": 2
}
