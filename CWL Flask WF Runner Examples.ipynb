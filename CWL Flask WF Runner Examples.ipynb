{
 "cells": [
  {
   "cell_type": "markdown",
   "metadata": {},
   "source": [
    "## Example 1:\n",
    "\n",
    "    WF takes in 2 numbers adds them then multiples the sum of the 2 numbers by 2nd number given\n",
    "    Service takes in workflow, job and path all posted to service at run-wf endpoint\n",
    "    All neccesary cwls are assumed to be in file directory given by path"
   ]
  },
  {
   "cell_type": "code",
   "execution_count": 83,
   "metadata": {},
   "outputs": [],
   "source": [
    "import requests\n",
    "\n",
    "test = {\"workflow\":\"test_workflow.cwl\",\"job\":\"test.yaml\",\"path\":\"/Users/justinniestroy-admin/Documents/Work/cwl_parser/workflows/\"}\n",
    "req = requests.post(\"http://localhost:5002/run-wf\",json = test)\n",
    "\n",
    "result = req.json()\n",
    "\n"
   ]
  },
  {
   "cell_type": "markdown",
   "metadata": {},
   "source": [
    "    Below final answer is the only output from the wf\n",
    "    Each output from work flow is key within the outputs dictionary\n",
    "    For each output metadata about the object is returned as well as whether is was sucessfully uploaded to minio"
   ]
  },
  {
   "cell_type": "code",
   "execution_count": 84,
   "metadata": {},
   "outputs": [
    {
     "ename": "KeyError",
     "evalue": "'outputs'",
     "output_type": "error",
     "traceback": [
      "\u001b[0;31m---------------------------------------------------------------------------\u001b[0m",
      "\u001b[0;31mKeyError\u001b[0m                                  Traceback (most recent call last)",
      "\u001b[0;32m<ipython-input-84-78efe246cdb3>\u001b[0m in \u001b[0;36m<module>\u001b[0;34m\u001b[0m\n\u001b[0;32m----> 1\u001b[0;31m \u001b[0mresult\u001b[0m\u001b[0;34m[\u001b[0m\u001b[0;34m'outputs'\u001b[0m\u001b[0;34m]\u001b[0m\u001b[0;34m\u001b[0m\u001b[0;34m\u001b[0m\u001b[0m\n\u001b[0m",
      "\u001b[0;31mKeyError\u001b[0m: 'outputs'"
     ]
    }
   ],
   "source": [
    "result['outputs']"
   ]
  },
  {
   "cell_type": "markdown",
   "metadata": {},
   "source": [
    "### In addition to output metadata workflow run metadata is also provided"
   ]
  },
  {
   "cell_type": "code",
   "execution_count": 85,
   "metadata": {},
   "outputs": [
    {
     "data": {
      "text/plain": [
       "{'outputs': {'final_figure': {'object_meta': {'@context': {'base': 'http://schema.org',\n",
       "     'wfdesc:': 'https://wf4ever.github.io/ro/2016-01-28/wfdesc/'},\n",
       "    '@type': 'ImageObject',\n",
       "    'author': {'@type': 'Person',\n",
       "     'email': 'jniestroy@gmail.com',\n",
       "     'identifier': 'random:orchid',\n",
       "     'memberOf': 'UVa',\n",
       "     'name': 'Justin Niestroy'},\n",
       "    'generated_by': {'@type': 'wfdesc:Wokflow',\n",
       "     'name': 'create_fig.cwl',\n",
       "     'wfdesc:hasInput': [{'@type': 'wfdesc:Parameter',\n",
       "       'datatype': 'File',\n",
       "       'name': 'input_data',\n",
       "       'path': '/Users/justinniestroy-admin/Documents/Work/recreate-figure/sample.csv'}],\n",
       "     'wfdesc:hasOutput': [{'@type': 'wfdesc:Parameter',\n",
       "       'datatype': 'File',\n",
       "       'name': 'final_figure',\n",
       "       'outputSource': 'create_fig/figure'}],\n",
       "     'wfdesc:hasProcess': [{'@type': 'wfdesc:Process',\n",
       "       'commandRun': ['data_cleaning.py'],\n",
       "       'name': 'cleandata',\n",
       "       'run': 'clean_data.cwl'},\n",
       "      {'@type': 'wfdesc:Process',\n",
       "       'commandRun': ['create_fig.py'],\n",
       "       'name': 'create_fig',\n",
       "       'run': 'make_fig.cwl'}]},\n",
       "    'name': 'final_figure',\n",
       "    'path': '/Users/justinniestroy-admin/Documents/Work/recreate-figure/figure.png',\n",
       "    'size': 35143},\n",
       "   'upload': 'success'}},\n",
       " 'wfprov:WorkflowRun': {'@type': 'wfdesc:Wokflow',\n",
       "  'name': 'create_fig.cwl',\n",
       "  'wfdesc:hasInput': [{'@type': 'wfdesc:Parameter',\n",
       "    'datatype': 'File',\n",
       "    'name': 'input_data',\n",
       "    'path': '/Users/justinniestroy-admin/Documents/Work/recreate-figure/sample.csv'}],\n",
       "  'wfdesc:hasOutput': [{'@type': 'wfdesc:Parameter',\n",
       "    'datatype': 'File',\n",
       "    'name': 'final_figure',\n",
       "    'outputSource': 'create_fig/figure'}],\n",
       "  'wfdesc:hasProcess': [{'@type': 'wfdesc:Process',\n",
       "    'commandRun': ['data_cleaning.py'],\n",
       "    'name': 'cleandata',\n",
       "    'run': 'clean_data.cwl'},\n",
       "   {'@type': 'wfdesc:Process',\n",
       "    'commandRun': ['create_fig.py'],\n",
       "    'name': 'create_fig',\n",
       "    'run': 'make_fig.cwl'}]}}"
      ]
     },
     "execution_count": 85,
     "metadata": {},
     "output_type": "execute_result"
    }
   ],
   "source": [
    "test = {\"workflow\":\"create_fig.cwl\",\"job\":\"fig.yaml\",\"path\":\"/Users/justinniestroy-admin/Documents/Work/recreate-figure/\"}\n",
    "req = requests.post(\"http://localhost:5002/run-wf\",json = test)\n",
    "req.json()\n"
   ]
  },
  {
   "cell_type": "code",
   "execution_count": 22,
   "metadata": {},
   "outputs": [
    {
     "data": {
      "text/plain": [
       "{'error': 'final_answer missing required schema properties or invalid',\n",
       " 'upload': False}"
      ]
     },
     "execution_count": 22,
     "metadata": {},
     "output_type": "execute_result"
    }
   ],
   "source": [
    "test = {\"workflow\":\"test_workflow.cwl\",\"commandTools\":[\"add.cwl\",\"multiply.cwl\"],\"path\":\"/Users/justinniestroy-admin/Documents/Work/cwl_parser/workflows/\"}\n",
    "req = requests.post(\"http://localhost:5002/post-wf\",json = test)\n",
    "req.json()\n"
   ]
  },
  {
   "cell_type": "code",
   "execution_count": 89,
   "metadata": {},
   "outputs": [
    {
     "data": {
      "text/plain": [
       "{'error': '', 'upload': True}"
      ]
     },
     "execution_count": 89,
     "metadata": {},
     "output_type": "execute_result"
    }
   ],
   "source": [
    "test = {\"workflow\":\"create_fig.cwl\",\"commandTools\":[\"clean_data.cwl\",\"make_fig.cwl\"],\n",
    "        \"job\" : \"fig.yaml\",\n",
    "        \"path\":\"/Users/justinniestroy-admin/Documents/Work/recreate-figure/\"}\n",
    "req = requests.post(\"http://localhost:5002/post-wf\",json = test)\n",
    "req.json()\n"
   ]
  },
  {
   "cell_type": "code",
   "execution_count": 91,
   "metadata": {},
   "outputs": [
    {
     "data": {
      "text/plain": [
       "{'outputs': {'final_figure': {'object_meta': {'@context': {'base': 'http://schema.org',\n",
       "     'wfdesc:': 'https://wf4ever.github.io/ro/2016-01-28/wfdesc/'},\n",
       "    '@type': 'ImageObject',\n",
       "    'author': {'@type': 'Person',\n",
       "     'email': 'jniestroy@gmail.com',\n",
       "     'identifier': 'random:orchid',\n",
       "     'memberOf': 'UVa',\n",
       "     'name': 'Justin Niestroy'},\n",
       "    'generated_by': {'@type': 'wfdesc:Wokflow',\n",
       "     'name': 'create_fig.cwl',\n",
       "     'wfdesc:hasInput': [{'@type': 'wfdesc:Parameter',\n",
       "       'datatype': 'File',\n",
       "       'name': 'input_data',\n",
       "       'path': '/Users/justinniestroy-admin/Documents/Work/recreate-figure/sample.csv'}],\n",
       "     'wfdesc:hasOutput': [{'@type': 'wfdesc:Parameter',\n",
       "       'datatype': 'File',\n",
       "       'name': 'final_figure',\n",
       "       'outputSource': 'create_fig/figure'}],\n",
       "     'wfdesc:hasProcess': [{'@type': 'wfdesc:Process',\n",
       "       'commandRun': ['data_cleaning.py'],\n",
       "       'name': 'cleandata',\n",
       "       'run': 'clean_data.cwl'},\n",
       "      {'@type': 'wfdesc:Process',\n",
       "       'commandRun': ['create_fig.py'],\n",
       "       'name': 'create_fig',\n",
       "       'run': 'make_fig.cwl'}]},\n",
       "    'name': 'final_figure',\n",
       "    'path': '/Users/justinniestroy-admin/Documents/Work/cwl_parser/tmp12345/figure.png',\n",
       "    'size': 35143},\n",
       "   'upload': 'success'}},\n",
       " 'wfprov:WorkflowRun': {'@type': 'wfdesc:Wokflow',\n",
       "  'name': 'create_fig.cwl',\n",
       "  'wfdesc:hasInput': [{'@type': 'wfdesc:Parameter',\n",
       "    'datatype': 'File',\n",
       "    'name': 'input_data',\n",
       "    'path': '/Users/justinniestroy-admin/Documents/Work/recreate-figure/sample.csv'}],\n",
       "  'wfdesc:hasOutput': [{'@type': 'wfdesc:Parameter',\n",
       "    'datatype': 'File',\n",
       "    'name': 'final_figure',\n",
       "    'outputSource': 'create_fig/figure'}],\n",
       "  'wfdesc:hasProcess': [{'@type': 'wfdesc:Process',\n",
       "    'commandRun': ['data_cleaning.py'],\n",
       "    'name': 'cleandata',\n",
       "    'run': 'clean_data.cwl'},\n",
       "   {'@type': 'wfdesc:Process',\n",
       "    'commandRun': ['create_fig.py'],\n",
       "    'name': 'create_fig',\n",
       "    'run': 'make_fig.cwl'}]}}"
      ]
     },
     "execution_count": 91,
     "metadata": {},
     "output_type": "execute_result"
    }
   ],
   "source": [
    "test = {\"workflow\":\"create_fig.cwl\",\"job\":\"fig.yaml\"}\n",
    "req = requests.post(\"http://localhost:5002/run-wf\",json = test)\n",
    "req.json()"
   ]
  },
  {
   "cell_type": "code",
   "execution_count": null,
   "metadata": {},
   "outputs": [],
   "source": []
  },
  {
   "cell_type": "code",
   "execution_count": null,
   "metadata": {},
   "outputs": [],
   "source": []
  }
 ],
 "metadata": {
  "kernelspec": {
   "display_name": "Python 3",
   "language": "python",
   "name": "python3"
  },
  "language_info": {
   "codemirror_mode": {
    "name": "ipython",
    "version": 3
   },
   "file_extension": ".py",
   "mimetype": "text/x-python",
   "name": "python",
   "nbconvert_exporter": "python",
   "pygments_lexer": "ipython3",
   "version": "3.7.4"
  }
 },
 "nbformat": 4,
 "nbformat_minor": 2
}
