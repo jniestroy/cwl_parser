{
 "cells": [
  {
   "cell_type": "markdown",
   "metadata": {},
   "source": [
    "## Example 1:\n",
    "\n",
    "    WF takes in 2 numbers adds them then multiples the sum of the 2 numbers by 2nd number given\n",
    "    Service takes in workflow, job and path all posted to service at run-wf endpoint\n",
    "    All neccesary cwls are assumed to be in file directory given by path"
   ]
  },
  {
   "cell_type": "code",
   "execution_count": 278,
   "metadata": {},
   "outputs": [
    {
     "data": {
      "text/plain": [
       "{'cwltool output': 'b\\'\\\\x1b[1;30mINFO\\\\x1b[0m /usr/local/bin/cwltool 1.0.20190621234233\\\\n\\\\x1b[1;30mINFO\\\\x1b[0m Resolved \\\\\\'test_workflow.cwl\\\\\\' to \\\\\\'file:///randompaththatshouldntexist12345/test_workflow.cwl\\\\\\'\\\\n\\\\x1b[1;30mERROR\\\\x1b[0m \\\\x1b[31mTool definition failed validation:\\\\ntest_workflow.cwl:18:7: Source \\\\\\'answer\\\\\\' of type \"File\" is incompatible\\\\ntest_workflow.cwl:23:7:   with sink \\\\\\'x\\\\\\' of type \"int\"\\\\x1b[0m\\\\n\\'',\n",
       " 'error': 'Workflow failed to run'}"
      ]
     },
     "execution_count": 278,
     "metadata": {},
     "output_type": "execute_result"
    }
   ],
   "source": [
    "import requests\n",
    "\n",
    "test = {\"workflow\":\"test_workflow.cwl\",\"job\":\"test.yaml\"}\n",
    "req = requests.post(\"http://localhost:5002/run-wf\",json = test)\n",
    "\n",
    "result = req.json()\n",
    "\n",
    "result\n",
    "\n"
   ]
  },
  {
   "cell_type": "markdown",
   "metadata": {},
   "source": [
    "    Below final answer is the only output from the wf\n",
    "    Each output from work flow is key within the outputs dictionary\n",
    "    For each output metadata about the object is returned as well as whether is was sucessfully uploaded to minio"
   ]
  },
  {
   "cell_type": "code",
   "execution_count": 279,
   "metadata": {},
   "outputs": [
    {
     "ename": "KeyError",
     "evalue": "'outputs'",
     "output_type": "error",
     "traceback": [
      "\u001b[0;31m---------------------------------------------------------------------------\u001b[0m",
      "\u001b[0;31mKeyError\u001b[0m                                  Traceback (most recent call last)",
      "\u001b[0;32m<ipython-input-279-78efe246cdb3>\u001b[0m in \u001b[0;36m<module>\u001b[0;34m\u001b[0m\n\u001b[0;32m----> 1\u001b[0;31m \u001b[0mresult\u001b[0m\u001b[0;34m[\u001b[0m\u001b[0;34m'outputs'\u001b[0m\u001b[0;34m]\u001b[0m\u001b[0;34m\u001b[0m\u001b[0;34m\u001b[0m\u001b[0m\n\u001b[0m",
      "\u001b[0;31mKeyError\u001b[0m: 'outputs'"
     ]
    }
   ],
   "source": [
    "result['outputs']"
   ]
  },
  {
   "cell_type": "markdown",
   "metadata": {},
   "source": [
    "### In addition to output metadata workflow run metadata is also provided"
   ]
  },
  {
   "cell_type": "code",
   "execution_count": 85,
   "metadata": {},
   "outputs": [
    {
     "data": {
      "text/plain": [
       "{'outputs': {'final_figure': {'object_meta': {'@context': {'base': 'http://schema.org',\n",
       "     'wfdesc:': 'https://wf4ever.github.io/ro/2016-01-28/wfdesc/'},\n",
       "    '@type': 'ImageObject',\n",
       "    'author': {'@type': 'Person',\n",
       "     'email': 'jniestroy@gmail.com',\n",
       "     'identifier': 'random:orchid',\n",
       "     'memberOf': 'UVa',\n",
       "     'name': 'Justin Niestroy'},\n",
       "    'generated_by': {'@type': 'wfdesc:Wokflow',\n",
       "     'name': 'create_fig.cwl',\n",
       "     'wfdesc:hasInput': [{'@type': 'wfdesc:Parameter',\n",
       "       'datatype': 'File',\n",
       "       'name': 'input_data',\n",
       "       'path': '/Users/justinniestroy-admin/Documents/Work/recreate-figure/sample.csv'}],\n",
       "     'wfdesc:hasOutput': [{'@type': 'wfdesc:Parameter',\n",
       "       'datatype': 'File',\n",
       "       'name': 'final_figure',\n",
       "       'outputSource': 'create_fig/figure'}],\n",
       "     'wfdesc:hasProcess': [{'@type': 'wfdesc:Process',\n",
       "       'commandRun': ['data_cleaning.py'],\n",
       "       'name': 'cleandata',\n",
       "       'run': 'clean_data.cwl'},\n",
       "      {'@type': 'wfdesc:Process',\n",
       "       'commandRun': ['create_fig.py'],\n",
       "       'name': 'create_fig',\n",
       "       'run': 'make_fig.cwl'}]},\n",
       "    'name': 'final_figure',\n",
       "    'path': '/Users/justinniestroy-admin/Documents/Work/recreate-figure/figure.png',\n",
       "    'size': 35143},\n",
       "   'upload': 'success'}},\n",
       " 'wfprov:WorkflowRun': {'@type': 'wfdesc:Wokflow',\n",
       "  'name': 'create_fig.cwl',\n",
       "  'wfdesc:hasInput': [{'@type': 'wfdesc:Parameter',\n",
       "    'datatype': 'File',\n",
       "    'name': 'input_data',\n",
       "    'path': '/Users/justinniestroy-admin/Documents/Work/recreate-figure/sample.csv'}],\n",
       "  'wfdesc:hasOutput': [{'@type': 'wfdesc:Parameter',\n",
       "    'datatype': 'File',\n",
       "    'name': 'final_figure',\n",
       "    'outputSource': 'create_fig/figure'}],\n",
       "  'wfdesc:hasProcess': [{'@type': 'wfdesc:Process',\n",
       "    'commandRun': ['data_cleaning.py'],\n",
       "    'name': 'cleandata',\n",
       "    'run': 'clean_data.cwl'},\n",
       "   {'@type': 'wfdesc:Process',\n",
       "    'commandRun': ['create_fig.py'],\n",
       "    'name': 'create_fig',\n",
       "    'run': 'make_fig.cwl'}]}}"
      ]
     },
     "execution_count": 85,
     "metadata": {},
     "output_type": "execute_result"
    }
   ],
   "source": [
    "test = {\"workflow\":\"create_fig.cwl\",\"job\":\"fig.yaml\",\"path\":\"/Users/justinniestroy-admin/Documents/Work/recreate-figure/\"}\n",
    "req = requests.post(\"http://localhost:5002/run-wf\",json = test)\n",
    "req.json()\n"
   ]
  },
  {
   "cell_type": "code",
   "execution_count": 22,
   "metadata": {},
   "outputs": [
    {
     "data": {
      "text/plain": [
       "{'error': 'final_answer missing required schema properties or invalid',\n",
       " 'upload': False}"
      ]
     },
     "execution_count": 22,
     "metadata": {},
     "output_type": "execute_result"
    }
   ],
   "source": [
    "test = {\"workflow\":\"test_workflow.cwl\",\"commandTools\":[\"add.cwl\",\"multiply.cwl\"],\"path\":\"/Users/justinniestroy-admin/Documents/Work/cwl_parser/workflows/\"}\n",
    "req = requests.post(\"http://localhost:5002/post-wf\",json = test)\n",
    "req.json()\n"
   ]
  },
  {
   "cell_type": "code",
   "execution_count": 92,
   "metadata": {},
   "outputs": [
    {
     "data": {
      "text/plain": [
       "{'error': 'workflow not found'}"
      ]
     },
     "execution_count": 92,
     "metadata": {},
     "output_type": "execute_result"
    }
   ],
   "source": [
    "test = {\"workflow\":\"create_fig.cwl\",\"commandTools\":[\"clean_data.cwl\",\"make_fig.cwl\"],\n",
    "        \"job\" : \"fig.yaml\",\n",
    "        \"path\":\"/Users/justinniestroy-admin/Documents/Work/recreate-figure/\"}\n",
    "req = requests.post(\"http://localhost:5002/post-wf\",json = test)\n",
    "req.json()\n"
   ]
  },
  {
   "cell_type": "code",
   "execution_count": 235,
   "metadata": {},
   "outputs": [
    {
     "data": {
      "text/plain": [
       "{'outputs': {},\n",
       " 'wfprov:WorkflowRun': {'@context': {'wfdesc': 'https://wf4ever.github.io/ro/2016-01-28/wfdesc/'},\n",
       "  '@type': 'wfdesc:Wokflow',\n",
       "  'name': '1st-tool.cwl',\n",
       "  'wfdesc:hasInput': [{'@type': 'wfdesc:Parameter',\n",
       "    'datatype': 'string',\n",
       "    'name': 'message',\n",
       "    'value': 'Hello world!'}],\n",
       "  'wfdesc:hasOutput': [],\n",
       "  'wfdesc:hasProcess': []}}"
      ]
     },
     "execution_count": 235,
     "metadata": {},
     "output_type": "execute_result"
    }
   ],
   "source": [
    "test = {\"workflow\":\"1st-tool.cwl\",\"job\":\"echo-job.yaml\"}\n",
    "req = requests.post(\"http://localhost:5002/run-wf\",json = test)\n",
    "req.json()"
   ]
  },
  {
   "cell_type": "code",
   "execution_count": 27,
   "metadata": {},
   "outputs": [
    {
     "data": {
      "text/plain": [
       "{'outputs': {'final_figure': {'object_meta': {'@context': {'base': 'http://schema.org',\n",
       "     'wfdesc:': 'https://wf4ever.github.io/ro/2016-01-28/wfdesc/'},\n",
       "    '@type': 'ImageObject',\n",
       "    'author': {'@type': 'Person',\n",
       "     'email': 'jcn4rh@virgnia.edu',\n",
       "     'identifier': 'https://orcid.org/0000-0002-1103-3882',\n",
       "     'memberOf': 'UVa',\n",
       "     'name': 'Justin Niestroy'},\n",
       "    'generated_by': {'@type': 'wfdesc:Wokflow',\n",
       "     'name': 'create_fig.cwl',\n",
       "     'wfdesc:hasInput': [{'@type': 'wfdesc:Parameter',\n",
       "       'datatype': 'File',\n",
       "       'name': 'input_data',\n",
       "       'path': '/Figure WF Files/sample.csv'}],\n",
       "     'wfdesc:hasOutput': [{'@type': 'wfdesc:Parameter',\n",
       "       'datatype': 'File',\n",
       "       'name': 'final_figure',\n",
       "       'outputSource': 'create_fig/figure'}],\n",
       "     'wfdesc:hasProcess': [{'@type': 'wfdesc:Process',\n",
       "       'commandRun': ['python3', '/Figure WF Files/data_cleaning.py'],\n",
       "       'name': 'cleandata',\n",
       "       'run': 'clean_data.cwl'},\n",
       "      {'@type': 'wfdesc:Process',\n",
       "       'commandRun': ['python3', '/Figure WF Files/create_fig.py'],\n",
       "       'name': 'create_fig',\n",
       "       'run': 'make_fig.cwl'}]},\n",
       "    'name': 'final_figure',\n",
       "    'path': '/randompaththatshouldntexist12345/figure.png',\n",
       "    'size': 35143},\n",
       "   'upload': 'success'}},\n",
       " 'wfprov:WorkflowRun': {'@type': 'wfdesc:Wokflow',\n",
       "  'name': 'create_fig.cwl',\n",
       "  'wfdesc:hasInput': [{'@type': 'wfdesc:Parameter',\n",
       "    'datatype': 'File',\n",
       "    'name': 'input_data',\n",
       "    'path': '/Figure WF Files/sample.csv'}],\n",
       "  'wfdesc:hasOutput': [{'@type': 'wfdesc:Parameter',\n",
       "    'datatype': 'File',\n",
       "    'name': 'final_figure',\n",
       "    'outputSource': 'create_fig/figure'}],\n",
       "  'wfdesc:hasProcess': [{'@type': 'wfdesc:Process',\n",
       "    'commandRun': ['python3', '/Figure WF Files/data_cleaning.py'],\n",
       "    'name': 'cleandata',\n",
       "    'run': 'clean_data.cwl'},\n",
       "   {'@type': 'wfdesc:Process',\n",
       "    'commandRun': ['python3', '/Figure WF Files/create_fig.py'],\n",
       "    'name': 'create_fig',\n",
       "    'run': 'make_fig.cwl'}]}}"
      ]
     },
     "execution_count": 27,
     "metadata": {},
     "output_type": "execute_result"
    }
   ],
   "source": [
    "test = {\"workflow\":\"create_fig.cwl\",\"job\":\"fig.yaml\"}\n",
    "req = requests.post(\"http://localhost:5002/run-wf\",json = test)\n",
    "req.json()\n"
   ]
  },
  {
   "cell_type": "code",
   "execution_count": 252,
   "metadata": {},
   "outputs": [
    {
     "data": {
      "text/plain": [
       "{'outputs': {'figure': {'object_meta': {'@context': {'base': 'http://schema.org',\n",
       "     'wfdesc:': 'https://wf4ever.github.io/ro/2016-01-28/wfdesc/'},\n",
       "    'generated_by': {'@type': 'wfdesc:Wokflow',\n",
       "     'name': 'make_fig.cwl',\n",
       "     'wfdesc:hasInput': [{'@type': 'wfdesc:Parameter',\n",
       "       'datatype': 'File',\n",
       "       'name': 'clean',\n",
       "       'path': '/sample.csv'}],\n",
       "     'wfdesc:hasOutput': [{'@type': 'wfdesc:Parameter',\n",
       "       'datatype': 'File',\n",
       "       'name': 'figure',\n",
       "       'outputSource': None}],\n",
       "     'wfdesc:hasProcess': []},\n",
       "    'name': 'figure',\n",
       "    'path': '/randompaththatshouldntexist12345/figure.png',\n",
       "    'size': 35143},\n",
       "   'upload': 'success'}},\n",
       " 'wfprov:WorkflowRun': {'@type': 'wfdesc:Wokflow',\n",
       "  'name': 'make_fig.cwl',\n",
       "  'wfdesc:hasInput': [{'@type': 'wfdesc:Parameter',\n",
       "    'datatype': 'File',\n",
       "    'name': 'clean',\n",
       "    'path': '/sample.csv'}],\n",
       "  'wfdesc:hasOutput': [{'@type': 'wfdesc:Parameter',\n",
       "    'datatype': 'File',\n",
       "    'name': 'figure',\n",
       "    'outputSource': None}],\n",
       "  'wfdesc:hasProcess': []}}"
      ]
     },
     "execution_count": 252,
     "metadata": {},
     "output_type": "execute_result"
    }
   ],
   "source": [
    "test = {\"workflow\":\"make_fig.cwl\",\"job\":\"fig.yaml\"}\n",
    "req = requests.post(\"http://localhost:5002/run-wf\",json = test)\n",
    "req.json()"
   ]
  },
  {
   "cell_type": "code",
   "execution_count": 6,
   "metadata": {},
   "outputs": [
    {
     "ename": "JSONDecodeError",
     "evalue": "Expecting value: line 1 column 1 (char 0)",
     "output_type": "error",
     "traceback": [
      "\u001b[0;31m---------------------------------------------------------------------------\u001b[0m",
      "\u001b[0;31mJSONDecodeError\u001b[0m                           Traceback (most recent call last)",
      "\u001b[0;32m<ipython-input-6-8bfcd8edb69a>\u001b[0m in \u001b[0;36m<module>\u001b[0;34m\u001b[0m\n\u001b[1;32m      1\u001b[0m \u001b[0mtest\u001b[0m \u001b[0;34m=\u001b[0m \u001b[0;34m{\u001b[0m\u001b[0;34m\"workflow\"\u001b[0m\u001b[0;34m:\u001b[0m\u001b[0;34m\"clean_data.cwl\"\u001b[0m\u001b[0;34m,\u001b[0m\u001b[0;34m\"job\"\u001b[0m\u001b[0;34m:\u001b[0m\u001b[0;34m\"fig.yaml\"\u001b[0m\u001b[0;34m}\u001b[0m\u001b[0;34m\u001b[0m\u001b[0;34m\u001b[0m\u001b[0m\n\u001b[1;32m      2\u001b[0m \u001b[0mreq\u001b[0m \u001b[0;34m=\u001b[0m \u001b[0mrequests\u001b[0m\u001b[0;34m.\u001b[0m\u001b[0mpost\u001b[0m\u001b[0;34m(\u001b[0m\u001b[0;34m\"http://localhost:5002/run-wf\"\u001b[0m\u001b[0;34m,\u001b[0m\u001b[0mjson\u001b[0m \u001b[0;34m=\u001b[0m \u001b[0mtest\u001b[0m\u001b[0;34m)\u001b[0m\u001b[0;34m\u001b[0m\u001b[0;34m\u001b[0m\u001b[0m\n\u001b[0;32m----> 3\u001b[0;31m \u001b[0mreq\u001b[0m\u001b[0;34m.\u001b[0m\u001b[0mjson\u001b[0m\u001b[0;34m(\u001b[0m\u001b[0;34m)\u001b[0m\u001b[0;34m\u001b[0m\u001b[0;34m\u001b[0m\u001b[0m\n\u001b[0m",
      "\u001b[0;32m/usr/local/lib/python3.7/site-packages/requests/models.py\u001b[0m in \u001b[0;36mjson\u001b[0;34m(self, **kwargs)\u001b[0m\n\u001b[1;32m    895\u001b[0m                     \u001b[0;31m# used.\u001b[0m\u001b[0;34m\u001b[0m\u001b[0;34m\u001b[0m\u001b[0;34m\u001b[0m\u001b[0m\n\u001b[1;32m    896\u001b[0m                     \u001b[0;32mpass\u001b[0m\u001b[0;34m\u001b[0m\u001b[0;34m\u001b[0m\u001b[0m\n\u001b[0;32m--> 897\u001b[0;31m         \u001b[0;32mreturn\u001b[0m \u001b[0mcomplexjson\u001b[0m\u001b[0;34m.\u001b[0m\u001b[0mloads\u001b[0m\u001b[0;34m(\u001b[0m\u001b[0mself\u001b[0m\u001b[0;34m.\u001b[0m\u001b[0mtext\u001b[0m\u001b[0;34m,\u001b[0m \u001b[0;34m**\u001b[0m\u001b[0mkwargs\u001b[0m\u001b[0;34m)\u001b[0m\u001b[0;34m\u001b[0m\u001b[0;34m\u001b[0m\u001b[0m\n\u001b[0m\u001b[1;32m    898\u001b[0m \u001b[0;34m\u001b[0m\u001b[0m\n\u001b[1;32m    899\u001b[0m     \u001b[0;34m@\u001b[0m\u001b[0mproperty\u001b[0m\u001b[0;34m\u001b[0m\u001b[0;34m\u001b[0m\u001b[0m\n",
      "\u001b[0;32m/usr/local/Cellar/python/3.7.4/Frameworks/Python.framework/Versions/3.7/lib/python3.7/json/__init__.py\u001b[0m in \u001b[0;36mloads\u001b[0;34m(s, encoding, cls, object_hook, parse_float, parse_int, parse_constant, object_pairs_hook, **kw)\u001b[0m\n\u001b[1;32m    346\u001b[0m             \u001b[0mparse_int\u001b[0m \u001b[0;32mis\u001b[0m \u001b[0;32mNone\u001b[0m \u001b[0;32mand\u001b[0m \u001b[0mparse_float\u001b[0m \u001b[0;32mis\u001b[0m \u001b[0;32mNone\u001b[0m \u001b[0;32mand\u001b[0m\u001b[0;34m\u001b[0m\u001b[0;34m\u001b[0m\u001b[0m\n\u001b[1;32m    347\u001b[0m             parse_constant is None and object_pairs_hook is None and not kw):\n\u001b[0;32m--> 348\u001b[0;31m         \u001b[0;32mreturn\u001b[0m \u001b[0m_default_decoder\u001b[0m\u001b[0;34m.\u001b[0m\u001b[0mdecode\u001b[0m\u001b[0;34m(\u001b[0m\u001b[0ms\u001b[0m\u001b[0;34m)\u001b[0m\u001b[0;34m\u001b[0m\u001b[0;34m\u001b[0m\u001b[0m\n\u001b[0m\u001b[1;32m    349\u001b[0m     \u001b[0;32mif\u001b[0m \u001b[0mcls\u001b[0m \u001b[0;32mis\u001b[0m \u001b[0;32mNone\u001b[0m\u001b[0;34m:\u001b[0m\u001b[0;34m\u001b[0m\u001b[0;34m\u001b[0m\u001b[0m\n\u001b[1;32m    350\u001b[0m         \u001b[0mcls\u001b[0m \u001b[0;34m=\u001b[0m \u001b[0mJSONDecoder\u001b[0m\u001b[0;34m\u001b[0m\u001b[0;34m\u001b[0m\u001b[0m\n",
      "\u001b[0;32m/usr/local/Cellar/python/3.7.4/Frameworks/Python.framework/Versions/3.7/lib/python3.7/json/decoder.py\u001b[0m in \u001b[0;36mdecode\u001b[0;34m(self, s, _w)\u001b[0m\n\u001b[1;32m    335\u001b[0m \u001b[0;34m\u001b[0m\u001b[0m\n\u001b[1;32m    336\u001b[0m         \"\"\"\n\u001b[0;32m--> 337\u001b[0;31m         \u001b[0mobj\u001b[0m\u001b[0;34m,\u001b[0m \u001b[0mend\u001b[0m \u001b[0;34m=\u001b[0m \u001b[0mself\u001b[0m\u001b[0;34m.\u001b[0m\u001b[0mraw_decode\u001b[0m\u001b[0;34m(\u001b[0m\u001b[0ms\u001b[0m\u001b[0;34m,\u001b[0m \u001b[0midx\u001b[0m\u001b[0;34m=\u001b[0m\u001b[0m_w\u001b[0m\u001b[0;34m(\u001b[0m\u001b[0ms\u001b[0m\u001b[0;34m,\u001b[0m \u001b[0;36m0\u001b[0m\u001b[0;34m)\u001b[0m\u001b[0;34m.\u001b[0m\u001b[0mend\u001b[0m\u001b[0;34m(\u001b[0m\u001b[0;34m)\u001b[0m\u001b[0;34m)\u001b[0m\u001b[0;34m\u001b[0m\u001b[0;34m\u001b[0m\u001b[0m\n\u001b[0m\u001b[1;32m    338\u001b[0m         \u001b[0mend\u001b[0m \u001b[0;34m=\u001b[0m \u001b[0m_w\u001b[0m\u001b[0;34m(\u001b[0m\u001b[0ms\u001b[0m\u001b[0;34m,\u001b[0m \u001b[0mend\u001b[0m\u001b[0;34m)\u001b[0m\u001b[0;34m.\u001b[0m\u001b[0mend\u001b[0m\u001b[0;34m(\u001b[0m\u001b[0;34m)\u001b[0m\u001b[0;34m\u001b[0m\u001b[0;34m\u001b[0m\u001b[0m\n\u001b[1;32m    339\u001b[0m         \u001b[0;32mif\u001b[0m \u001b[0mend\u001b[0m \u001b[0;34m!=\u001b[0m \u001b[0mlen\u001b[0m\u001b[0;34m(\u001b[0m\u001b[0ms\u001b[0m\u001b[0;34m)\u001b[0m\u001b[0;34m:\u001b[0m\u001b[0;34m\u001b[0m\u001b[0;34m\u001b[0m\u001b[0m\n",
      "\u001b[0;32m/usr/local/Cellar/python/3.7.4/Frameworks/Python.framework/Versions/3.7/lib/python3.7/json/decoder.py\u001b[0m in \u001b[0;36mraw_decode\u001b[0;34m(self, s, idx)\u001b[0m\n\u001b[1;32m    353\u001b[0m             \u001b[0mobj\u001b[0m\u001b[0;34m,\u001b[0m \u001b[0mend\u001b[0m \u001b[0;34m=\u001b[0m \u001b[0mself\u001b[0m\u001b[0;34m.\u001b[0m\u001b[0mscan_once\u001b[0m\u001b[0;34m(\u001b[0m\u001b[0ms\u001b[0m\u001b[0;34m,\u001b[0m \u001b[0midx\u001b[0m\u001b[0;34m)\u001b[0m\u001b[0;34m\u001b[0m\u001b[0;34m\u001b[0m\u001b[0m\n\u001b[1;32m    354\u001b[0m         \u001b[0;32mexcept\u001b[0m \u001b[0mStopIteration\u001b[0m \u001b[0;32mas\u001b[0m \u001b[0merr\u001b[0m\u001b[0;34m:\u001b[0m\u001b[0;34m\u001b[0m\u001b[0;34m\u001b[0m\u001b[0m\n\u001b[0;32m--> 355\u001b[0;31m             \u001b[0;32mraise\u001b[0m \u001b[0mJSONDecodeError\u001b[0m\u001b[0;34m(\u001b[0m\u001b[0;34m\"Expecting value\"\u001b[0m\u001b[0;34m,\u001b[0m \u001b[0ms\u001b[0m\u001b[0;34m,\u001b[0m \u001b[0merr\u001b[0m\u001b[0;34m.\u001b[0m\u001b[0mvalue\u001b[0m\u001b[0;34m)\u001b[0m \u001b[0;32mfrom\u001b[0m \u001b[0;32mNone\u001b[0m\u001b[0;34m\u001b[0m\u001b[0;34m\u001b[0m\u001b[0m\n\u001b[0m\u001b[1;32m    356\u001b[0m         \u001b[0;32mreturn\u001b[0m \u001b[0mobj\u001b[0m\u001b[0;34m,\u001b[0m \u001b[0mend\u001b[0m\u001b[0;34m\u001b[0m\u001b[0;34m\u001b[0m\u001b[0m\n",
      "\u001b[0;31mJSONDecodeError\u001b[0m: Expecting value: line 1 column 1 (char 0)"
     ]
    }
   ],
   "source": [
    "test = {\"workflow\":\"clean_data.cwl\",\"job\":\"fig.yaml\"}\n",
    "req = requests.post(\"http://localhost:5002/run-wf\",json = test)\n",
    "req.json()"
   ]
  },
  {
   "cell_type": "code",
   "execution_count": 4,
   "metadata": {},
   "outputs": [],
   "source": [
    "url = 'http://localhost:5002/post-wf'\n",
    "files = {'create_fig.cwl': open('/Users/justinniestroy-admin/Documents/Work/recreate-figure/test_create_fig.cwl', 'rb'),\n",
    "         'make_fig.cwl':open('/Users/justinniestroy-admin/Documents/Work/recreate-figure/test_make_fig.cwl', 'rb'),\n",
    "         'clean_data.cwl':open('/Users/justinniestroy-admin/Documents/Work/recreate-figure/test_clean_data.cwl', 'rb')\n",
    "        }\n",
    "test = {\"workflow\":\"create_fig.cwl\",\"commandTools\":[\"clean_data.cwl\"]}\n",
    "r = requests.post(url, files=files)"
   ]
  },
  {
   "cell_type": "code",
   "execution_count": null,
   "metadata": {},
   "outputs": [],
   "source": [
    "url = 'http://localhost:5002/post-wf'\n",
    "files = {'create_fig.cwl': open('/Users/justinniestroy-admin/Documents/Work/recreate-figure/Old WFs/create_fig.cwl', 'rb'),\n",
    "         'make_fig.cwl':open('/Users/justinniestroy-admin/Documents/Work/recreate-figure/Old WFs/make_fig.cwl', 'rb'),\n",
    "         'clean_data.cwl':open('/Users/justinniestroy-admin/Documents/Work/recreate-figure/Old WFs/clean_data.cwl', 'rb')\n",
    "        }\n",
    "test = {\"workflow\":\"create_fig.cwl\",\"commandTools\":[\"clean_data.cwl\"]}\n",
    "r = requests.post(url, files=files)"
   ]
  },
  {
   "cell_type": "code",
   "execution_count": 7,
   "metadata": {},
   "outputs": [],
   "source": [
    "url = 'http://localhost:5002/post-wf'\n",
    "files = {'make_fig.cwl':open('/Users/justinniestroy-admin/Documents/Work/recreate-figure/test_make_fig.cwl', 'rb')\n",
    "        }\n",
    "test = {\"workflow\":\"create_fig.cwl\",\"commandTools\":[\"clean_data.cwl\"]}\n",
    "r = requests.post(url, files=files)"
   ]
  },
  {
   "cell_type": "code",
   "execution_count": 257,
   "metadata": {},
   "outputs": [],
   "source": [
    "url = 'http://localhost:5002/post-wf'\n",
    "files = {'clean_data.cwl':open('/Users/justinniestroy-admin/Documents/Work/recreate-figure/test_clean_data.cwl', 'rb')\n",
    "        }\n",
    "test = {\"workflow\":\"create_fig.cwl\",\"commandTools\":[\"clean_data.cwl\"]}\n",
    "r = requests.post(url, files=files)"
   ]
  },
  {
   "cell_type": "code",
   "execution_count": 258,
   "metadata": {},
   "outputs": [
    {
     "data": {
      "text/plain": [
       "'{\"error\":\"\",\"upload\":true}\\n'"
      ]
     },
     "execution_count": 258,
     "metadata": {},
     "output_type": "execute_result"
    }
   ],
   "source": [
    "r.content.decode()"
   ]
  },
  {
   "cell_type": "code",
   "execution_count": 7,
   "metadata": {},
   "outputs": [
    {
     "data": {
      "text/plain": [
       "{'error': '', 'upload': True}"
      ]
     },
     "execution_count": 7,
     "metadata": {},
     "output_type": "execute_result"
    }
   ],
   "source": [
    "url = 'http://localhost:5002/post-job'\n",
    "files = {'fig.yaml': open('/Users/justinniestroy-admin/Documents/Work/recreate-figure/dock_fig.yaml', 'rb')}\n",
    "r = requests.post(url, files=files)\n",
    "r.json()"
   ]
  },
  {
   "cell_type": "code",
   "execution_count": 232,
   "metadata": {},
   "outputs": [
    {
     "data": {
      "text/plain": [
       "{'error': '', 'upload': True}"
      ]
     },
     "execution_count": 232,
     "metadata": {},
     "output_type": "execute_result"
    }
   ],
   "source": [
    "url = 'http://localhost:5002/post-wf'\n",
    "files = {'1st-tool.cwl': open('/Users/justinniestroy-admin/Documents/Work/recreate-figure/1st-tool.cwl', 'rb')}\n",
    "test = {\"workflow\":\"create_fig.cwl\",\"commandTools\":[\"clean_data.cwl\"]}\n",
    "r = requests.post(url, files=files)\n",
    "r.json()"
   ]
  },
  {
   "cell_type": "code",
   "execution_count": 233,
   "metadata": {},
   "outputs": [
    {
     "data": {
      "text/plain": [
       "{'error': '', 'upload': True}"
      ]
     },
     "execution_count": 233,
     "metadata": {},
     "output_type": "execute_result"
    }
   ],
   "source": [
    "url = 'http://localhost:5002/post-job'\n",
    "files = {'echo-job.yaml': open('/Users/justinniestroy-admin/Documents/Work/recreate-figure/echo-job.yaml', 'rb')}\n",
    "r = requests.post(url, files=files)\n",
    "r.json()"
   ]
  },
  {
   "cell_type": "code",
   "execution_count": 5,
   "metadata": {},
   "outputs": [
    {
     "data": {
      "text/plain": [
       "{'outputs': {'final_answer': {'object_meta': {'@context': {'base': 'http://schema.org',\n",
       "     'wfdesc:': 'https://wf4ever.github.io/ro/2016-01-28/wfdesc/'},\n",
       "    'generated_by': {'@type': 'wfdesc:Wokflow',\n",
       "     'name': 'test_workflow.cwl',\n",
       "     'wfdesc:hasInput': [{'@type': 'wfdesc:Parameter',\n",
       "       'datatype': 'int',\n",
       "       'name': 'num1',\n",
       "       'value': 4},\n",
       "      {'@type': 'wfdesc:Parameter',\n",
       "       'datatype': 'int',\n",
       "       'name': 'num2',\n",
       "       'value': 7}],\n",
       "     'wfdesc:hasOutput': [{'@type': 'wfdesc:Parameter',\n",
       "       'datatype': 'File',\n",
       "       'name': 'final_answer',\n",
       "       'outputSource': 'multiply/answer'}],\n",
       "     'wfdesc:hasProcess': [{'@type': 'wfdesc:Process',\n",
       "       'commandRun': ['python3', '/add.py'],\n",
       "       'name': 'add',\n",
       "       'run': 'add.cwl'},\n",
       "      {'@type': 'wfdesc:Process',\n",
       "       'commandRun': ['python3', '/multiply.py'],\n",
       "       'name': 'multiply',\n",
       "       'run': 'multiply.cwl'}]},\n",
       "    'name': 'final_answer',\n",
       "    'path': '/randompaththatshouldntexist12345/output_test1.txt',\n",
       "    'size': 3},\n",
       "   'upload': 'success'}},\n",
       " 'wfprov:WorkflowRun': {'@type': 'wfdesc:Wokflow',\n",
       "  'name': 'test_workflow.cwl',\n",
       "  'wfdesc:hasInput': [{'@type': 'wfdesc:Parameter',\n",
       "    'datatype': 'int',\n",
       "    'name': 'num1',\n",
       "    'value': 4},\n",
       "   {'@type': 'wfdesc:Parameter',\n",
       "    'datatype': 'int',\n",
       "    'name': 'num2',\n",
       "    'value': 7}],\n",
       "  'wfdesc:hasOutput': [{'@type': 'wfdesc:Parameter',\n",
       "    'datatype': 'File',\n",
       "    'name': 'final_answer',\n",
       "    'outputSource': 'multiply/answer'}],\n",
       "  'wfdesc:hasProcess': [{'@type': 'wfdesc:Process',\n",
       "    'commandRun': ['python3', '/add.py'],\n",
       "    'name': 'add',\n",
       "    'run': 'add.cwl'},\n",
       "   {'@type': 'wfdesc:Process',\n",
       "    'commandRun': ['python3', '/multiply.py'],\n",
       "    'name': 'multiply',\n",
       "    'run': 'multiply.cwl'}]}}"
      ]
     },
     "execution_count": 5,
     "metadata": {},
     "output_type": "execute_result"
    }
   ],
   "source": [
    "import requests\n",
    "\n",
    "test = {\"workflow\":\"test_workflow.cwl\",\"job\":\"test.yaml\"}\n",
    "req = requests.post(\"http://localhost:5002/run-wf\",json = test)\n",
    "\n",
    "result = req.json()\n",
    "\n",
    "result"
   ]
  },
  {
   "cell_type": "code",
   "execution_count": 13,
   "metadata": {},
   "outputs": [
    {
     "data": {
      "text/plain": [
       "{'error': 'final_answer missing required schema properties or invalid',\n",
       " 'upload': False,\n",
       " 'validation_result': ' JSON missing required property @type.'}"
      ]
     },
     "execution_count": 13,
     "metadata": {},
     "output_type": "execute_result"
    }
   ],
   "source": [
    "import requests\n",
    "url = 'http://localhost:5002/post-wf'\n",
    "files = {'test_workflow.cwl': open('/Users/justinniestroy-admin/Documents/Work/cwl_parser/workflows/test_workflow.cwl', 'rb'),\n",
    "        'add.cwl':open('/Users/justinniestroy-admin/Documents/Work/cwl_parser/workflows/add.cwl', 'rb'),\n",
    "         'multiply.cwl':open('/Users/justinniestroy-admin/Documents/Work/cwl_parser/workflows/multiply.cwl', 'rb')\n",
    "        }\n",
    "test = {\"workflow\":\"create_fig.cwl\",\"commandTools\":[\"clean_data.cwl\"]}\n",
    "r = requests.post(url, files=files)\n",
    "r.json()"
   ]
  },
  {
   "cell_type": "code",
   "execution_count": 2,
   "metadata": {},
   "outputs": [
    {
     "data": {
      "text/plain": [
       "{'error': '', 'upload': True}"
      ]
     },
     "execution_count": 2,
     "metadata": {},
     "output_type": "execute_result"
    }
   ],
   "source": [
    "url = 'http://localhost:5002/post-job'\n",
    "files = {'test.yaml': open('/Users/justinniestroy-admin/Documents/Work/cwl_parser/workflows/test.yaml', 'rb')}\n",
    "r = requests.post(url, files=files)\n",
    "r.json()"
   ]
  },
  {
   "cell_type": "code",
   "execution_count": 19,
   "metadata": {},
   "outputs": [
    {
     "data": {
      "text/plain": [
       "{'error': '', 'upload': True}"
      ]
     },
     "execution_count": 19,
     "metadata": {},
     "output_type": "execute_result"
    }
   ],
   "source": [
    "url = 'http://localhost:5002/post-wf'\n",
    "files = {'create_fig.cwl': open('/Users/justinniestroy-admin/Documents/Work/recreate-figure/create_fig_meta.cwl', 'rb'),\n",
    "         'make_fig.cwl':open('/Users/justinniestroy-admin/Documents/Work/recreate-figure/test_make_fig.cwl', 'rb'),\n",
    "         'clean_data.cwl':open('/Users/justinniestroy-admin/Documents/Work/recreate-figure/test_clean_data.cwl', 'rb')\n",
    "        }\n",
    "test = {\"workflow\":\"create_fig.cwl\",\"commandTools\":[\"clean_data.cwl\"]}\n",
    "r = requests.post(url, files=files)\n",
    "r.json()"
   ]
  },
  {
   "cell_type": "code",
   "execution_count": null,
   "metadata": {},
   "outputs": [],
   "source": []
  }
 ],
 "metadata": {
  "kernelspec": {
   "display_name": "Python 3",
   "language": "python",
   "name": "python3"
  },
  "language_info": {
   "codemirror_mode": {
    "name": "ipython",
    "version": 3
   },
   "file_extension": ".py",
   "mimetype": "text/x-python",
   "name": "python",
   "nbconvert_exporter": "python",
   "pygments_lexer": "ipython3",
   "version": "3.7.4"
  }
 },
 "nbformat": 4,
 "nbformat_minor": 2
}
