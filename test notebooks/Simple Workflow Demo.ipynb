{
 "cells": [
  {
   "cell_type": "markdown",
   "metadata": {},
   "source": [
    "## Post Workflow to Minio"
   ]
  },
  {
   "cell_type": "code",
   "execution_count": 2,
   "metadata": {},
   "outputs": [
    {
     "data": {
      "text/plain": [
       "{'error': '', 'upload': True}"
      ]
     },
     "execution_count": 2,
     "metadata": {},
     "output_type": "execute_result"
    }
   ],
   "source": [
    "import requests\n",
    "url = 'http://localhost:5002/post-wf'\n",
    "files = {'create_fig.cwl': open('/Users/justinniestroy-admin/Documents/Work/recreate-figure/test_create_fig.cwl', 'rb'),\n",
    "         'make_fig.cwl':open('/Users/justinniestroy-admin/Documents/Work/recreate-figure/test_make_fig.cwl', 'rb'),\n",
    "         'clean_data.cwl':open('/Users/justinniestroy-admin/Documents/Work/recreate-figure/test_clean_data.cwl', 'rb')\n",
    "        }\n",
    "test = {\"workflow\":\"create_fig.cwl\",\"commandTools\":[\"clean_data.cwl\"]}\n",
    "r = requests.post(url, files=files)\n",
    "r.json()"
   ]
  },
  {
   "cell_type": "markdown",
   "metadata": {},
   "source": [
    "## Post associated job to Minio"
   ]
  },
  {
   "cell_type": "code",
   "execution_count": 3,
   "metadata": {},
   "outputs": [
    {
     "data": {
      "text/plain": [
       "{'error': '', 'upload': True}"
      ]
     },
     "execution_count": 3,
     "metadata": {},
     "output_type": "execute_result"
    }
   ],
   "source": [
    "url = 'http://localhost:5002/post-job'\n",
    "files = {'fig.yaml': open('/Users/justinniestroy-admin/Documents/Work/recreate-figure/dock_fig.yaml', 'rb')}\n",
    "r = requests.post(url, files=files)\n",
    "r.json()"
   ]
  },
  {
   "cell_type": "markdown",
   "metadata": {},
   "source": [
    "## Run WF with job via service"
   ]
  },
  {
   "cell_type": "code",
   "execution_count": 4,
   "metadata": {},
   "outputs": [],
   "source": [
    "url = 'http://localhost:5002/post-wf'\n",
    "files = {'create_fig.cwl': open('/Users/justinniestroy-admin/Documents/Work/recreate-figure/test_create_fig.cwl', 'rb'),\n",
    "         'make_fig.cwl':open('/Users/justinniestroy-admin/Documents/Work/recreate-figure/test_make_fig.cwl', 'rb'),\n",
    "         'clean_data.cwl':open('/Users/justinniestroy-admin/Documents/Work/recreate-figure/test_clean_data.cwl', 'rb')\n",
    "        }\n",
    "test = {\"workflow\":\"create_fig.cwl\",\"commandTools\":[\"clean_data.cwl\"]}\n",
    "r = requests.post(url, files=files)"
   ]
  },
  {
   "cell_type": "code",
   "execution_count": 5,
   "metadata": {},
   "outputs": [
    {
     "data": {
      "text/plain": [
       "{'error': '', 'upload': True}"
      ]
     },
     "execution_count": 5,
     "metadata": {},
     "output_type": "execute_result"
    }
   ],
   "source": [
    "r.json()"
   ]
  },
  {
   "cell_type": "code",
   "execution_count": null,
   "metadata": {},
   "outputs": [],
   "source": []
  }
 ],
 "metadata": {
  "kernelspec": {
   "display_name": "Python 3",
   "language": "python",
   "name": "python3"
  },
  "language_info": {
   "codemirror_mode": {
    "name": "ipython",
    "version": 3
   },
   "file_extension": ".py",
   "mimetype": "text/x-python",
   "name": "python",
   "nbconvert_exporter": "python",
   "pygments_lexer": "ipython3",
   "version": "3.7.4"
  }
 },
 "nbformat": 4,
 "nbformat_minor": 2
}
