{
 "cells": [
  {
   "cell_type": "markdown",
   "metadata": {},
   "source": [
    "## Example 1:\n",
    "\n",
    "    WF takes in 2 numbers adds them then multiples the sum of the 2 numbers by 2nd number given\n",
    "    Service takes in workflow, job and path all posted to service at run-wf endpoint\n",
    "    All neccesary cwls are assumed to be in file directory given by path"
   ]
  },
  {
   "cell_type": "code",
   "execution_count": 278,
   "metadata": {},
   "outputs": [
    {
     "data": {
      "text/plain": [
       "{'cwltool output': 'b\\'\\\\x1b[1;30mINFO\\\\x1b[0m /usr/local/bin/cwltool 1.0.20190621234233\\\\n\\\\x1b[1;30mINFO\\\\x1b[0m Resolved \\\\\\'test_workflow.cwl\\\\\\' to \\\\\\'file:///randompaththatshouldntexist12345/test_workflow.cwl\\\\\\'\\\\n\\\\x1b[1;30mERROR\\\\x1b[0m \\\\x1b[31mTool definition failed validation:\\\\ntest_workflow.cwl:18:7: Source \\\\\\'answer\\\\\\' of type \"File\" is incompatible\\\\ntest_workflow.cwl:23:7:   with sink \\\\\\'x\\\\\\' of type \"int\"\\\\x1b[0m\\\\n\\'',\n",
       " 'error': 'Workflow failed to run'}"
      ]
     },
     "execution_count": 278,
     "metadata": {},
     "output_type": "execute_result"
    }
   ],
   "source": [
    "import requests\n",
    "\n",
    "test = {\"workflow\":\"test_workflow.cwl\",\"job\":\"test.yaml\"}\n",
    "req = requests.post(\"http://localhost:5002/run-wf\",json = test)\n",
    "\n",
    "result = req.json()\n",
    "\n",
    "result\n",
    "\n"
   ]
  },
  {
   "cell_type": "markdown",
   "metadata": {},
   "source": [
    "    Below final answer is the only output from the wf\n",
    "    Each output from work flow is key within the outputs dictionary\n",
    "    For each output metadata about the object is returned as well as whether is was sucessfully uploaded to minio"
   ]
  },
  {
   "cell_type": "code",
   "execution_count": 279,
   "metadata": {},
   "outputs": [
    {
     "ename": "KeyError",
     "evalue": "'outputs'",
     "output_type": "error",
     "traceback": [
      "\u001b[0;31m---------------------------------------------------------------------------\u001b[0m",
      "\u001b[0;31mKeyError\u001b[0m                                  Traceback (most recent call last)",
      "\u001b[0;32m<ipython-input-279-78efe246cdb3>\u001b[0m in \u001b[0;36m<module>\u001b[0;34m\u001b[0m\n\u001b[0;32m----> 1\u001b[0;31m \u001b[0mresult\u001b[0m\u001b[0;34m[\u001b[0m\u001b[0;34m'outputs'\u001b[0m\u001b[0;34m]\u001b[0m\u001b[0;34m\u001b[0m\u001b[0;34m\u001b[0m\u001b[0m\n\u001b[0m",
      "\u001b[0;31mKeyError\u001b[0m: 'outputs'"
     ]
    }
   ],
   "source": [
    "result['outputs']"
   ]
  },
  {
   "cell_type": "markdown",
   "metadata": {},
   "source": [
    "### In addition to output metadata workflow run metadata is also provided"
   ]
  },
  {
   "cell_type": "code",
   "execution_count": 85,
   "metadata": {},
   "outputs": [
    {
     "data": {
      "text/plain": [
       "{'outputs': {'final_figure': {'object_meta': {'@context': {'base': 'http://schema.org',\n",
       "     'wfdesc:': 'https://wf4ever.github.io/ro/2016-01-28/wfdesc/'},\n",
       "    '@type': 'ImageObject',\n",
       "    'author': {'@type': 'Person',\n",
       "     'email': 'jniestroy@gmail.com',\n",
       "     'identifier': 'random:orchid',\n",
       "     'memberOf': 'UVa',\n",
       "     'name': 'Justin Niestroy'},\n",
       "    'generated_by': {'@type': 'wfdesc:Wokflow',\n",
       "     'name': 'create_fig.cwl',\n",
       "     'wfdesc:hasInput': [{'@type': 'wfdesc:Parameter',\n",
       "       'datatype': 'File',\n",
       "       'name': 'input_data',\n",
       "       'path': '/Users/justinniestroy-admin/Documents/Work/recreate-figure/sample.csv'}],\n",
       "     'wfdesc:hasOutput': [{'@type': 'wfdesc:Parameter',\n",
       "       'datatype': 'File',\n",
       "       'name': 'final_figure',\n",
       "       'outputSource': 'create_fig/figure'}],\n",
       "     'wfdesc:hasProcess': [{'@type': 'wfdesc:Process',\n",
       "       'commandRun': ['data_cleaning.py'],\n",
       "       'name': 'cleandata',\n",
       "       'run': 'clean_data.cwl'},\n",
       "      {'@type': 'wfdesc:Process',\n",
       "       'commandRun': ['create_fig.py'],\n",
       "       'name': 'create_fig',\n",
       "       'run': 'make_fig.cwl'}]},\n",
       "    'name': 'final_figure',\n",
       "    'path': '/Users/justinniestroy-admin/Documents/Work/recreate-figure/figure.png',\n",
       "    'size': 35143},\n",
       "   'upload': 'success'}},\n",
       " 'wfprov:WorkflowRun': {'@type': 'wfdesc:Wokflow',\n",
       "  'name': 'create_fig.cwl',\n",
       "  'wfdesc:hasInput': [{'@type': 'wfdesc:Parameter',\n",
       "    'datatype': 'File',\n",
       "    'name': 'input_data',\n",
       "    'path': '/Users/justinniestroy-admin/Documents/Work/recreate-figure/sample.csv'}],\n",
       "  'wfdesc:hasOutput': [{'@type': 'wfdesc:Parameter',\n",
       "    'datatype': 'File',\n",
       "    'name': 'final_figure',\n",
       "    'outputSource': 'create_fig/figure'}],\n",
       "  'wfdesc:hasProcess': [{'@type': 'wfdesc:Process',\n",
       "    'commandRun': ['data_cleaning.py'],\n",
       "    'name': 'cleandata',\n",
       "    'run': 'clean_data.cwl'},\n",
       "   {'@type': 'wfdesc:Process',\n",
       "    'commandRun': ['create_fig.py'],\n",
       "    'name': 'create_fig',\n",
       "    'run': 'make_fig.cwl'}]}}"
      ]
     },
     "execution_count": 85,
     "metadata": {},
     "output_type": "execute_result"
    }
   ],
   "source": [
    "test = {\"workflow\":\"create_fig.cwl\",\"job\":\"fig.yaml\",\"path\":\"/Users/justinniestroy-admin/Documents/Work/recreate-figure/\"}\n",
    "req = requests.post(\"http://localhost:5002/run-wf\",json = test)\n",
    "req.json()\n"
   ]
  },
  {
   "cell_type": "code",
   "execution_count": 22,
   "metadata": {},
   "outputs": [
    {
     "data": {
      "text/plain": [
       "{'error': 'final_answer missing required schema properties or invalid',\n",
       " 'upload': False}"
      ]
     },
     "execution_count": 22,
     "metadata": {},
     "output_type": "execute_result"
    }
   ],
   "source": [
    "test = {\"workflow\":\"test_workflow.cwl\",\"commandTools\":[\"add.cwl\",\"multiply.cwl\"],\"path\":\"/Users/justinniestroy-admin/Documents/Work/cwl_parser/workflows/\"}\n",
    "req = requests.post(\"http://localhost:5002/post-wf\",json = test)\n",
    "req.json()\n"
   ]
  },
  {
   "cell_type": "code",
   "execution_count": 92,
   "metadata": {},
   "outputs": [
    {
     "data": {
      "text/plain": [
       "{'error': 'workflow not found'}"
      ]
     },
     "execution_count": 92,
     "metadata": {},
     "output_type": "execute_result"
    }
   ],
   "source": [
    "test = {\"workflow\":\"create_fig.cwl\",\"commandTools\":[\"clean_data.cwl\",\"make_fig.cwl\"],\n",
    "        \"job\" : \"fig.yaml\",\n",
    "        \"path\":\"/Users/justinniestroy-admin/Documents/Work/recreate-figure/\"}\n",
    "req = requests.post(\"http://localhost:5002/post-wf\",json = test)\n",
    "req.json()\n"
   ]
  },
  {
   "cell_type": "code",
   "execution_count": 235,
   "metadata": {},
   "outputs": [
    {
     "data": {
      "text/plain": [
       "{'outputs': {},\n",
       " 'wfprov:WorkflowRun': {'@context': {'wfdesc': 'https://wf4ever.github.io/ro/2016-01-28/wfdesc/'},\n",
       "  '@type': 'wfdesc:Wokflow',\n",
       "  'name': '1st-tool.cwl',\n",
       "  'wfdesc:hasInput': [{'@type': 'wfdesc:Parameter',\n",
       "    'datatype': 'string',\n",
       "    'name': 'message',\n",
       "    'value': 'Hello world!'}],\n",
       "  'wfdesc:hasOutput': [],\n",
       "  'wfdesc:hasProcess': []}}"
      ]
     },
     "execution_count": 235,
     "metadata": {},
     "output_type": "execute_result"
    }
   ],
   "source": [
    "test = {\"workflow\":\"1st-tool.cwl\",\"job\":\"echo-job.yaml\"}\n",
    "req = requests.post(\"http://localhost:5002/run-wf\",json = test)\n",
    "req.json()"
   ]
  },
  {
   "cell_type": "code",
   "execution_count": 270,
   "metadata": {},
   "outputs": [
    {
     "data": {
      "text/plain": [
       "{'cwltool output': 'b\\'\\\\x1b[1;30mINFO\\\\x1b[0m /usr/local/bin/cwltool 1.0.20190621234233\\\\n\\\\x1b[1;30mINFO\\\\x1b[0m Resolved \\\\\\'create_fig.cwl\\\\\\' to \\\\\\'file:///randompaththatshouldntexist12345/create_fig.cwl\\\\\\'\\\\n\\\\x1b[1;30mERROR\\\\x1b[0m \\\\x1b[31mI\\\\\\'m sorry, I couldn\\\\\\'t load this CWL file, try again with --debug for more information.\\\\nThe error was: Union item must be a valid Avro schema: Type property \"[\\\\\\'null\\\\\\', {\\\\\\'type\\\\\\': \\\\\\'array\\\\\\', \\\\\\'items\\\\\\': [\\\\\\'File\\\\\\', {\\\\\\'name\\\\\\': \\\\\\'Directory\\\\\\', \\\\\\'type\\\\\\': \\\\\\'record\\\\\\', \\\\\\'docAfter\\\\\\': \\\\\\'https://w3id.org/cwl/cwl#File\\\\\\', \\\\\\'doc\\\\\\': \\\\\\'Represents a directory to present to a command line tool.\\\\\\\\n\\\\\\\\nDirectories are represented as objects with `class` of `Directory`.  Directory objects have\\\\\\\\na number of properties that provide metadata about the directory.\\\\\\\\n\\\\\\\\nThe `location` property of a Directory is a URI that uniquely identifies\\\\\\\\nthe directory.  Implementations must support the file:// URI scheme and may\\\\\\\\nsupport other schemes such as http://.  Alternately to `location`,\\\\\\\\nimplementations must also accept the `path` property on Direcotry, which\\\\\\\\nmust be a filesystem path available on the same host as the CWL runner (for\\\\\\\\ninputs) or the runtime environment of a command line tool execution (for\\\\\\\\ncommand line tool outputs).\\\\\\\\n\\\\\\\\nA Directory object may have a `listing` field.  This is a list of File and\\\\\\\\nDirectory objects that are contained in the Directory.  For each entry in\\\\\\\\n`listing`, the `basename` property defines the name of the File or\\\\\\\\nSubdirectory when staged to disk.  If `listing` is not provided, the\\\\\\\\nimplementation must have some way of fetching the Directory listing at\\\\\\\\nruntime based on the `location` field.\\\\\\\\n\\\\\\\\nIf a Directory does not have `location`, it is a Directory literal.  A\\\\\\\\nDirectory literal must provide `listing`.  Directory literals must be\\\\\\\\ncreated on disk at runtime as needed.\\\\\\\\n\\\\\\\\nThe resources in a Directory literal do not need to have any implied\\\\\\\\nrelationship in their `location`.  For example, a Directory listing may\\\\\\\\ncontain two files located on different hosts.  It is the responsibility of\\\\\\\\nthe runtime to ensure that those files are staged to disk appropriately.\\\\\\\\nSecondary files associated with files in `listing` must also be staged to\\\\\\\\nthe same Directory.\\\\\\\\n\\\\\\\\nWhen executing a CommandLineTool, Directories must be recursively staged\\\\\\\\nfirst and have local values of `path` assigend.\\\\\\\\n\\\\\\\\nDirectory objects in CommandLineTool output must provide either a\\\\\\\\n`location` URI or a `path` property in the context of the tool execution\\\\\\\\nruntime (local to the compute node, or within the executing container).\\\\\\\\n\\\\\\\\nAn ExpressionTool may forward file references from input to output by using\\\\\\\\nthe same value for `location`.\\\\\\\\n\\\\\\\\nName conflicts (the same `basename` appearing multiple times in `listing`\\\\\\\\nor in any entry in `secondaryFiles` in the listing) is a fatal error.\\\\\\\\n\\\\\\', \\\\\\'fields\\\\\\': [{\\\\\\'name\\\\\\': \\\\\\'class\\\\\\', \\\\\\'type\\\\\\': {\\\\\\'type\\\\\\': \\\\\\'enum\\\\\\', \\\\\\'name\\\\\\': \\\\\\'Directory_class\\\\\\', \\\\\\'symbols\\\\\\': [\\\\\\'Directory\\\\\\']}, \\\\\\'jsonldPredicate\\\\\\': {\\\\\\'_id\\\\\\': \\\\\\'@type\\\\\\', \\\\\\'_type\\\\\\': \\\\\\'@vocab\\\\\\'}, \\\\\\'doc\\\\\\': \\\\\\'Must be `Directory` to indicate this object describes a Directory.\\\\\\'}, {\\\\\\'name\\\\\\': \\\\\\'location\\\\\\', \\\\\\'type\\\\\\': [\\\\\\'null\\\\\\', \\\\\\'string\\\\\\'], \\\\\\'doc\\\\\\': \\\\\\'An IRI that identifies the directory resource.  This may be a relative\\\\\\\\nreference, in which case it must be resolved using the base IRI of the\\\\\\\\ndocument.  The location may refer to a local or remote resource.  If\\\\\\\\nthe `listing` field is not set, the implementation must use the\\\\\\\\nlocation IRI to retrieve directory listing.  If an implementation is\\\\\\\\nunable to retrieve the directory listing stored at a remote resource (due to\\\\\\\\nunsupported protocol, access denied, or other issue) it must signal an\\\\\\\\nerror.\\\\\\\\n\\\\\\\\nIf the `location` field is not provided, the `listing` field must be\\\\\\\\nprovided.  The implementation must assign a unique identifier for\\\\\\\\nthe `location` field.\\\\\\\\n\\\\\\\\nIf the `path` field is provided but the `location` field is not, an\\\\\\\\nimplementation may assign the value of the `path` field to `location`,\\\\\\\\nthen follow the rules above.\\\\\\\\n\\\\\\', \\\\\\'jsonldPredicate\\\\\\': {\\\\\\'_id\\\\\\': \\\\\\'@id\\\\\\', \\\\\\'_type\\\\\\': \\\\\\'@id\\\\\\'}}, {\\\\\\'name\\\\\\': \\\\\\'path\\\\\\', \\\\\\'type\\\\\\': [\\\\\\'null\\\\\\', \\\\\\'string\\\\\\'], \\\\\\'doc\\\\\\': \\\\\\'The local path where the Directory is made available prior to executing a\\\\\\\\nCommandLineTool.  This must be set by the implementation.  This field\\\\\\\\nmust not be used in any other context.  The command line tool being\\\\\\\\nexecuted must be able to to access the directory at `path` using the POSIX\\\\\\\\n`opendir(2)` syscall.\\\\\\\\n\\\\\\\\nIf the `path` contains [POSIX shell metacharacters](http://pubs.opengroup.org/onlinepubs/9699919799/utilities/V3_chap02.html#tag_18_02)\\\\\\\\n(`|`,`&`, `;`, `<`, `>`, `(`,`)`, `$`,`` ` ``, `\\\\\\\\\\\\\\\\`, `\"`, `\\\\\\\\\\\\\\'`,\\\\\\\\n`<space>`, `<tab>`, and `<newline>`) or characters\\\\\\\\n[not allowed](http://www.iana.org/assignments/idna-tables-6.3.0/idna-tables-6.3.0.xhtml)\\\\\\\\nfor [Internationalized Domain Names for Applications](https://tools.ietf.org/html/rfc6452)\\\\\\\\nthen implementations may terminate the process with a\\\\\\\\n`permanentFailure`.\\\\\\\\n\\\\\\', \\\\\\'jsonldPredicate\\\\\\': {\\\\\\'_id\\\\\\': \\\\\\'https://w3id.org/cwl/cwl#path\\\\\\', \\\\\\'_type\\\\\\': \\\\\\'@id\\\\\\'}}, {\\\\\\'name\\\\\\': \\\\\\'basename\\\\\\', \\\\\\'type\\\\\\': [\\\\\\'null\\\\\\', \\\\\\'string\\\\\\'], \\\\\\'doc\\\\\\': \\\\\\'The base name of the directory, that is, the name of the file without any\\\\\\\\nleading directory path.  The base name must not contain a slash `/`.\\\\\\\\n\\\\\\\\nIf not provided, the implementation must set this field based on the\\\\\\\\n`location` field by taking the final path component after parsing\\\\\\\\n`location` as an IRI.  If `basename` is provided, it is not required to\\\\\\\\nmatch the value from `location`.\\\\\\\\n\\\\\\\\nWhen this file is made available to a CommandLineTool, it must be named\\\\\\\\nwith `basename`, i.e. the final component of the `path` field must match\\\\\\\\n`basename`.\\\\\\\\n\\\\\\', \\\\\\'jsonldPredicate\\\\\\': \\\\\\'cwl:basename\\\\\\'}, {\\\\\\'name\\\\\\': \\\\\\'listing\\\\\\', \\\\\\'type\\\\\\': [\\\\\\'null\\\\\\', {\\\\\\'type\\\\\\': \\\\\\'array\\\\\\', \\\\\\'items\\\\\\': [\\\\\\'File\\\\\\', \\\\\\'Directory\\\\\\'], \\\\\\'name\\\\\\': \\\\\\'\\\\\\'}], \\\\\\'doc\\\\\\': \\\\\\'List of files or subdirectories contained in this directory.  The name\\\\\\\\nof each file or subdirectory is determined by the `basename` field of\\\\\\\\neach `File` or `Directory` object.  It is an error if a `File` shares a\\\\\\\\n`basename` with any other entry in `listing`.  If two or more\\\\\\\\n`Directory` object share the same `basename`, this must be treated as\\\\\\\\nequivalent to a single subdirectory with the listings recursively\\\\\\\\nmerged.\\\\\\\\n\\\\\\', \\\\\\'jsonldPredicate\\\\\\': {\\\\\\'_id\\\\\\': \\\\\\'https://w3id.org/cwl/cwl#listing\\\\\\'}}]}], \\\\\\'name\\\\\\': \\\\\\'\\\\\\'}]\" not a valid Avro schema: Union item must be a valid Avro schema: Items schema ([\\\\\\'File\\\\\\', {\\\\\\'name\\\\\\': \\\\\\'Directory\\\\\\', \\\\\\'type\\\\\\': \\\\\\'record\\\\\\', \\\\\\'docAfter\\\\\\': \\\\\\'https://w3id.org/cwl/cwl#File\\\\\\', \\\\\\'doc\\\\\\': \\\\\\'Represents a directory to present to a command line tool.\\\\\\\\n\\\\\\\\nDirectories are represented as objects with `class` of `Directory`.  Directory objects have\\\\\\\\na number of properties that provide metadata about the directory.\\\\\\\\n\\\\\\\\nThe `location` property of a Directory is a URI that uniquely identifies\\\\\\\\nthe directory.  Implementations must support the file:// URI scheme and may\\\\\\\\nsupport other schemes such as http://.  Alternately to `location`,\\\\\\\\nimplementations must also accept the `path` property on Direcotry, which\\\\\\\\nmust be a filesystem path available on the same host as the CWL runner (for\\\\\\\\ninputs) or the runtime environment of a command line tool execution (for\\\\\\\\ncommand line tool outputs).\\\\\\\\n\\\\\\\\nA Directory object may have a `listing` field.  This is a list of File and\\\\\\\\nDirectory objects that are contained in the Directory.  For each entry in\\\\\\\\n`listing`, the `basename` property defines the name of the File or\\\\\\\\nSubdirectory when staged to disk.  If `listing` is not provided, the\\\\\\\\nimplementation must have some way of fetching the Directory listing at\\\\\\\\nruntime based on the `location` field.\\\\\\\\n\\\\\\\\nIf a Directory does not have `location`, it is a Directory literal.  A\\\\\\\\nDirectory literal must provide `listing`.  Directory literals must be\\\\\\\\ncreated on disk at runtime as needed.\\\\\\\\n\\\\\\\\nThe resources in a Directory literal do not need to have any implied\\\\\\\\nrelationship in their `location`.  For example, a Directory listing may\\\\\\\\ncontain two files located on different hosts.  It is the responsibility of\\\\\\\\nthe runtime to ensure that those files are staged to disk appropriately.\\\\\\\\nSecondary files associated with files in `listing` must also be staged to\\\\\\\\nthe same Directory.\\\\\\\\n\\\\\\\\nWhen executing a CommandLineTool, Directories must be recursively staged\\\\\\\\nfirst and have local values of `path` assigend.\\\\\\\\n\\\\\\\\nDirectory objects in CommandLineTool output must provide either a\\\\\\\\n`location` URI or a `path` property in the context of the tool execution\\\\\\\\nruntime (local to the compute node, or within the executing container).\\\\\\\\n\\\\\\\\nAn ExpressionTool may forward file references from input to output by using\\\\\\\\nthe same value for `location`.\\\\\\\\n\\\\\\\\nName conflicts (the same `basename` appearing multiple times in `listing`\\\\\\\\nor in any entry in `secondaryFiles` in the listing) is a fatal error.\\\\\\\\n\\\\\\', \\\\\\'fields\\\\\\': [{\\\\\\'name\\\\\\': \\\\\\'class\\\\\\', \\\\\\'type\\\\\\': {\\\\\\'type\\\\\\': \\\\\\'enum\\\\\\', \\\\\\'name\\\\\\': \\\\\\'Directory_class\\\\\\', \\\\\\'symbols\\\\\\': [\\\\\\'Directory\\\\\\']}, \\\\\\'jsonldPredicate\\\\\\': {\\\\\\'_id\\\\\\': \\\\\\'@type\\\\\\', \\\\\\'_type\\\\\\': \\\\\\'@vocab\\\\\\'}, \\\\\\'doc\\\\\\': \\\\\\'Must be `Directory` to indicate this object describes a Directory.\\\\\\'}, {\\\\\\'name\\\\\\': \\\\\\'location\\\\\\', \\\\\\'type\\\\\\': [\\\\\\'null\\\\\\', \\\\\\'string\\\\\\'], \\\\\\'doc\\\\\\': \\\\\\'An IRI that identifies the directory resource.  This may be a relative\\\\\\\\nreference, in which case it must be resolved using the base IRI of the\\\\\\\\ndocument.  The location may refer to a local or remote resource.  If\\\\\\\\nthe `listing` field is not set, the implementation must use the\\\\\\\\nlocation IRI to retrieve directory listing.  If an implementation is\\\\\\\\nunable to retrieve the directory listing stored at a remote resource (due to\\\\\\\\nunsupported protocol, access denied, or other issue) it must signal an\\\\\\\\nerror.\\\\\\\\n\\\\\\\\nIf the `location` field is not provided, the `listing` field must be\\\\\\\\nprovided.  The implementation must assign a unique identifier for\\\\\\\\nthe `location` field.\\\\\\\\n\\\\\\\\nIf the `path` field is provided but the `location` field is not, an\\\\\\\\nimplementation may assign the value of the `path` field to `location`,\\\\\\\\nthen follow the rules above.\\\\\\\\n\\\\\\', \\\\\\'jsonldPredicate\\\\\\': {\\\\\\'_id\\\\\\': \\\\\\'@id\\\\\\', \\\\\\'_type\\\\\\': \\\\\\'@id\\\\\\'}}, {\\\\\\'name\\\\\\': \\\\\\'path\\\\\\', \\\\\\'type\\\\\\': [\\\\\\'null\\\\\\', \\\\\\'string\\\\\\'], \\\\\\'doc\\\\\\': \\\\\\'The local path where the Directory is made available prior to executing a\\\\\\\\nCommandLineTool.  This must be set by the implementation.  This field\\\\\\\\nmust not be used in any other context.  The command line tool being\\\\\\\\nexecuted must be able to to access the directory at `path` using the POSIX\\\\\\\\n`opendir(2)` syscall.\\\\\\\\n\\\\\\\\nIf the `path` contains [POSIX shell metacharacters](http://pubs.opengroup.org/onlinepubs/9699919799/utilities/V3_chap02.html#tag_18_02)\\\\\\\\n(`|`,`&`, `;`, `<`, `>`, `(`,`)`, `$`,`` ` ``, `\\\\\\\\\\\\\\\\`, `\"`, `\\\\\\\\\\\\\\'`,\\\\\\\\n`<space>`, `<tab>`, and `<newline>`) or characters\\\\\\\\n[not allowed](http://www.iana.org/assignments/idna-tables-6.3.0/idna-tables-6.3.0.xhtml)\\\\\\\\nfor [Internationalized Domain Names for Applications](https://tools.ietf.org/html/rfc6452)\\\\\\\\nthen implementations may terminate the process with a\\\\\\\\n`permanentFailure`.\\\\\\\\n\\\\\\', \\\\\\'jsonldPredicate\\\\\\': {\\\\\\'_id\\\\\\': \\\\\\'https://w3id.org/cwl/cwl#path\\\\\\', \\\\\\'_type\\\\\\': \\\\\\'@id\\\\\\'}}, {\\\\\\'name\\\\\\': \\\\\\'basename\\\\\\', \\\\\\'type\\\\\\': [\\\\\\'null\\\\\\', \\\\\\'string\\\\\\'], \\\\\\'doc\\\\\\': \\\\\\'The base name of the directory, that is, the name of the file without any\\\\\\\\nleading directory path.  The base name must not contain a slash `/`.\\\\\\\\n\\\\\\\\nIf not provided, the implementation must set this field based on the\\\\\\\\n`location` field by taking the final path component after parsing\\\\\\\\n`location` as an IRI.  If `basename` is provided, it is not required to\\\\\\\\nmatch the value from `location`.\\\\\\\\n\\\\\\\\nWhen this file is made available to a CommandLineTool, it must be named\\\\\\\\nwith `basename`, i.e. the final component of the `path` field must match\\\\\\\\n`basename`.\\\\\\\\n\\\\\\', \\\\\\'jsonldPredicate\\\\\\': \\\\\\'cwl:basename\\\\\\'}, {\\\\\\'name\\\\\\': \\\\\\'listing\\\\\\', \\\\\\'type\\\\\\': [\\\\\\'null\\\\\\', {\\\\\\'type\\\\\\': \\\\\\'array\\\\\\', \\\\\\'items\\\\\\': [\\\\\\'File\\\\\\', \\\\\\'Directory\\\\\\'], \\\\\\'name\\\\\\': \\\\\\'\\\\\\'}], \\\\\\'doc\\\\\\': \\\\\\'List of files or subdirectories contained in this directory.  The name\\\\\\\\nof each file or subdirectory is determined by the `basename` field of\\\\\\\\neach `File` or `Directory` object.  It is an error if a `File` shares a\\\\\\\\n`basename` with any other entry in `listing`.  If two or more\\\\\\\\n`Directory` object share the same `basename`, this must be treated as\\\\\\\\nequivalent to a single subdirectory with the listings recursively\\\\\\\\nmerged.\\\\\\\\n\\\\\\', \\\\\\'jsonldPredicate\\\\\\': {\\\\\\'_id\\\\\\': \\\\\\'https://w3id.org/cwl/cwl#listing\\\\\\'}}]}]) not a valid Avro schema: Union item must be a valid Avro schema: Type property \"{\\\\\\'type\\\\\\': \\\\\\'enum\\\\\\', \\\\\\'name\\\\\\': \\\\\\'Directory_class\\\\\\', \\\\\\'symbols\\\\\\': [\\\\\\'Directory\\\\\\']}\" not a valid Avro schema: maximum recursion depth exceeded (known names: [\\\\\\'File\\\\\\', \\\\\\'File_class\\\\\\', \\\\\\'Directory\\\\\\'])\\\\x1b[0m\\\\n\\'',\n",
       " 'error': 'Workflow failed to run'}"
      ]
     },
     "execution_count": 270,
     "metadata": {},
     "output_type": "execute_result"
    }
   ],
   "source": [
    "test = {\"workflow\":\"create_fig.cwl\",\"job\":\"fig.yaml\"}\n",
    "req = requests.post(\"http://localhost:5002/run-wf\",json = test)\n",
    "req.json()\n"
   ]
  },
  {
   "cell_type": "code",
   "execution_count": 252,
   "metadata": {},
   "outputs": [
    {
     "data": {
      "text/plain": [
       "{'outputs': {'figure': {'object_meta': {'@context': {'base': 'http://schema.org',\n",
       "     'wfdesc:': 'https://wf4ever.github.io/ro/2016-01-28/wfdesc/'},\n",
       "    'generated_by': {'@type': 'wfdesc:Wokflow',\n",
       "     'name': 'make_fig.cwl',\n",
       "     'wfdesc:hasInput': [{'@type': 'wfdesc:Parameter',\n",
       "       'datatype': 'File',\n",
       "       'name': 'clean',\n",
       "       'path': '/sample.csv'}],\n",
       "     'wfdesc:hasOutput': [{'@type': 'wfdesc:Parameter',\n",
       "       'datatype': 'File',\n",
       "       'name': 'figure',\n",
       "       'outputSource': None}],\n",
       "     'wfdesc:hasProcess': []},\n",
       "    'name': 'figure',\n",
       "    'path': '/randompaththatshouldntexist12345/figure.png',\n",
       "    'size': 35143},\n",
       "   'upload': 'success'}},\n",
       " 'wfprov:WorkflowRun': {'@type': 'wfdesc:Wokflow',\n",
       "  'name': 'make_fig.cwl',\n",
       "  'wfdesc:hasInput': [{'@type': 'wfdesc:Parameter',\n",
       "    'datatype': 'File',\n",
       "    'name': 'clean',\n",
       "    'path': '/sample.csv'}],\n",
       "  'wfdesc:hasOutput': [{'@type': 'wfdesc:Parameter',\n",
       "    'datatype': 'File',\n",
       "    'name': 'figure',\n",
       "    'outputSource': None}],\n",
       "  'wfdesc:hasProcess': []}}"
      ]
     },
     "execution_count": 252,
     "metadata": {},
     "output_type": "execute_result"
    }
   ],
   "source": [
    "test = {\"workflow\":\"make_fig.cwl\",\"job\":\"fig.yaml\"}\n",
    "req = requests.post(\"http://localhost:5002/run-wf\",json = test)\n",
    "req.json()"
   ]
  },
  {
   "cell_type": "code",
   "execution_count": 259,
   "metadata": {},
   "outputs": [
    {
     "data": {
      "text/plain": [
       "{'outputs': {'answer': {'object_meta': {'@context': {'base': 'http://schema.org',\n",
       "     'wfdesc:': 'https://wf4ever.github.io/ro/2016-01-28/wfdesc/'},\n",
       "    'generated_by': {'@type': 'wfdesc:Wokflow',\n",
       "     'name': 'clean_data.cwl',\n",
       "     'wfdesc:hasInput': [{'@type': 'wfdesc:Parameter',\n",
       "       'datatype': 'File',\n",
       "       'name': 'file',\n",
       "       'path': '/sample.csv'}],\n",
       "     'wfdesc:hasOutput': [{'@type': 'wfdesc:Parameter',\n",
       "       'datatype': 'File',\n",
       "       'name': 'answer',\n",
       "       'outputSource': None}],\n",
       "     'wfdesc:hasProcess': []},\n",
       "    'name': 'answer',\n",
       "    'path': '/randompaththatshouldntexist12345/clean.csv',\n",
       "    'size': 9449413},\n",
       "   'upload': 'success'}},\n",
       " 'wfprov:WorkflowRun': {'@type': 'wfdesc:Wokflow',\n",
       "  'name': 'clean_data.cwl',\n",
       "  'wfdesc:hasInput': [{'@type': 'wfdesc:Parameter',\n",
       "    'datatype': 'File',\n",
       "    'name': 'file',\n",
       "    'path': '/sample.csv'}],\n",
       "  'wfdesc:hasOutput': [{'@type': 'wfdesc:Parameter',\n",
       "    'datatype': 'File',\n",
       "    'name': 'answer',\n",
       "    'outputSource': None}],\n",
       "  'wfdesc:hasProcess': []}}"
      ]
     },
     "execution_count": 259,
     "metadata": {},
     "output_type": "execute_result"
    }
   ],
   "source": [
    "test = {\"workflow\":\"clean_data.cwl\",\"job\":\"fig.yaml\"}\n",
    "req = requests.post(\"http://localhost:5002/run-wf\",json = test)\n",
    "req.json()"
   ]
  },
  {
   "cell_type": "code",
   "execution_count": 268,
   "metadata": {},
   "outputs": [],
   "source": [
    "url = 'http://localhost:5002/post-wf'\n",
    "files = {'create_fig.cwl': open('/Users/justinniestroy-admin/Documents/Work/recreate-figure/test_create_fig.cwl', 'rb'),\n",
    "         'make_fig.cwl':open('/Users/justinniestroy-admin/Documents/Work/recreate-figure/test_make_fig.cwl', 'rb'),\n",
    "         'clean_data.cwl':open('/Users/justinniestroy-admin/Documents/Work/recreate-figure/test_clean_data.cwl', 'rb')\n",
    "        }\n",
    "test = {\"workflow\":\"create_fig.cwl\",\"commandTools\":[\"clean_data.cwl\"]}\n",
    "r = requests.post(url, files=files)"
   ]
  },
  {
   "cell_type": "code",
   "execution_count": 256,
   "metadata": {},
   "outputs": [],
   "source": [
    "url = 'http://localhost:5002/post-wf'\n",
    "files = {'make_fig.cwl':open('/Users/justinniestroy-admin/Documents/Work/recreate-figure/test_make_fig.cwl', 'rb')\n",
    "        }\n",
    "test = {\"workflow\":\"create_fig.cwl\",\"commandTools\":[\"clean_data.cwl\"]}\n",
    "r = requests.post(url, files=files)"
   ]
  },
  {
   "cell_type": "code",
   "execution_count": 257,
   "metadata": {},
   "outputs": [],
   "source": [
    "url = 'http://localhost:5002/post-wf'\n",
    "files = {'clean_data.cwl':open('/Users/justinniestroy-admin/Documents/Work/recreate-figure/test_clean_data.cwl', 'rb')\n",
    "        }\n",
    "test = {\"workflow\":\"create_fig.cwl\",\"commandTools\":[\"clean_data.cwl\"]}\n",
    "r = requests.post(url, files=files)"
   ]
  },
  {
   "cell_type": "code",
   "execution_count": 258,
   "metadata": {},
   "outputs": [
    {
     "data": {
      "text/plain": [
       "'{\"error\":\"\",\"upload\":true}\\n'"
      ]
     },
     "execution_count": 258,
     "metadata": {},
     "output_type": "execute_result"
    }
   ],
   "source": [
    "r.content.decode()"
   ]
  },
  {
   "cell_type": "code",
   "execution_count": 269,
   "metadata": {},
   "outputs": [
    {
     "data": {
      "text/plain": [
       "{'error': '', 'upload': True}"
      ]
     },
     "execution_count": 269,
     "metadata": {},
     "output_type": "execute_result"
    }
   ],
   "source": [
    "url = 'http://localhost:5002/post-job'\n",
    "files = {'fig.yaml': open('/Users/justinniestroy-admin/Documents/Work/recreate-figure/dock_fig.yaml', 'rb')}\n",
    "r = requests.post(url, files=files)\n",
    "r.json()"
   ]
  },
  {
   "cell_type": "code",
   "execution_count": 232,
   "metadata": {},
   "outputs": [
    {
     "data": {
      "text/plain": [
       "{'error': '', 'upload': True}"
      ]
     },
     "execution_count": 232,
     "metadata": {},
     "output_type": "execute_result"
    }
   ],
   "source": [
    "url = 'http://localhost:5002/post-wf'\n",
    "files = {'1st-tool.cwl': open('/Users/justinniestroy-admin/Documents/Work/recreate-figure/1st-tool.cwl', 'rb')}\n",
    "test = {\"workflow\":\"create_fig.cwl\",\"commandTools\":[\"clean_data.cwl\"]}\n",
    "r = requests.post(url, files=files)\n",
    "r.json()"
   ]
  },
  {
   "cell_type": "code",
   "execution_count": 233,
   "metadata": {},
   "outputs": [
    {
     "data": {
      "text/plain": [
       "{'error': '', 'upload': True}"
      ]
     },
     "execution_count": 233,
     "metadata": {},
     "output_type": "execute_result"
    }
   ],
   "source": [
    "url = 'http://localhost:5002/post-job'\n",
    "files = {'echo-job.yaml': open('/Users/justinniestroy-admin/Documents/Work/recreate-figure/echo-job.yaml', 'rb')}\n",
    "r = requests.post(url, files=files)\n",
    "r.json()"
   ]
  },
  {
   "cell_type": "code",
   "execution_count": 303,
   "metadata": {},
   "outputs": [
    {
     "data": {
      "text/plain": [
       "{'outputs': {'final_answer': {'object_meta': {'@context': {'base': 'http://schema.org',\n",
       "     'wfdesc:': 'https://wf4ever.github.io/ro/2016-01-28/wfdesc/'},\n",
       "    'generated_by': {'@type': 'wfdesc:Wokflow',\n",
       "     'name': 'test_workflow.cwl',\n",
       "     'wfdesc:hasInput': [{'@type': 'wfdesc:Parameter',\n",
       "       'datatype': 'int',\n",
       "       'name': 'num1',\n",
       "       'value': 4},\n",
       "      {'@type': 'wfdesc:Parameter',\n",
       "       'datatype': 'int',\n",
       "       'name': 'num2',\n",
       "       'value': 7}],\n",
       "     'wfdesc:hasOutput': [{'@type': 'wfdesc:Parameter',\n",
       "       'datatype': 'File',\n",
       "       'name': 'final_answer',\n",
       "       'outputSource': 'multiply/answer'}],\n",
       "     'wfdesc:hasProcess': [{'@type': 'wfdesc:Process',\n",
       "       'commandRun': ['python3', '/add.py'],\n",
       "       'name': 'add',\n",
       "       'run': 'add.cwl'},\n",
       "      {'@type': 'wfdesc:Process',\n",
       "       'commandRun': ['python3', '/multiply.py'],\n",
       "       'name': 'multiply',\n",
       "       'run': 'multiply.cwl'}]},\n",
       "    'name': 'final_answer',\n",
       "    'path': '/randompaththatshouldntexist12345/output_test1.txt',\n",
       "    'size': 3},\n",
       "   'upload': 'success'}},\n",
       " 'wfprov:WorkflowRun': {'@type': 'wfdesc:Wokflow',\n",
       "  'name': 'test_workflow.cwl',\n",
       "  'wfdesc:hasInput': [{'@type': 'wfdesc:Parameter',\n",
       "    'datatype': 'int',\n",
       "    'name': 'num1',\n",
       "    'value': 4},\n",
       "   {'@type': 'wfdesc:Parameter',\n",
       "    'datatype': 'int',\n",
       "    'name': 'num2',\n",
       "    'value': 7}],\n",
       "  'wfdesc:hasOutput': [{'@type': 'wfdesc:Parameter',\n",
       "    'datatype': 'File',\n",
       "    'name': 'final_answer',\n",
       "    'outputSource': 'multiply/answer'}],\n",
       "  'wfdesc:hasProcess': [{'@type': 'wfdesc:Process',\n",
       "    'commandRun': ['python3', '/add.py'],\n",
       "    'name': 'add',\n",
       "    'run': 'add.cwl'},\n",
       "   {'@type': 'wfdesc:Process',\n",
       "    'commandRun': ['python3', '/multiply.py'],\n",
       "    'name': 'multiply',\n",
       "    'run': 'multiply.cwl'}]}}"
      ]
     },
     "execution_count": 303,
     "metadata": {},
     "output_type": "execute_result"
    }
   ],
   "source": [
    "import requests\n",
    "\n",
    "test = {\"workflow\":\"test_workflow.cwl\",\"job\":\"test.yaml\"}\n",
    "req = requests.post(\"http://localhost:5002/run-wf\",json = test)\n",
    "\n",
    "result = req.json()\n",
    "\n",
    "result"
   ]
  },
  {
   "cell_type": "code",
   "execution_count": 301,
   "metadata": {},
   "outputs": [
    {
     "data": {
      "text/plain": [
       "{'error': '', 'upload': True}"
      ]
     },
     "execution_count": 301,
     "metadata": {},
     "output_type": "execute_result"
    }
   ],
   "source": [
    "url = 'http://localhost:5002/post-wf'\n",
    "files = {'test_workflow.cwl': open('/Users/justinniestroy-admin/Documents/Work/cwl_parser/workflows/test_workflow.cwl', 'rb'),\n",
    "        'add.cwl':open('/Users/justinniestroy-admin/Documents/Work/cwl_parser/workflows/add.cwl', 'rb'),\n",
    "         'multiply.cwl':open('/Users/justinniestroy-admin/Documents/Work/cwl_parser/workflows/multiply.cwl', 'rb')\n",
    "        }\n",
    "test = {\"workflow\":\"create_fig.cwl\",\"commandTools\":[\"clean_data.cwl\"]}\n",
    "r = requests.post(url, files=files)\n",
    "r.json()"
   ]
  },
  {
   "cell_type": "code",
   "execution_count": 302,
   "metadata": {},
   "outputs": [
    {
     "data": {
      "text/plain": [
       "{'error': '', 'upload': True}"
      ]
     },
     "execution_count": 302,
     "metadata": {},
     "output_type": "execute_result"
    }
   ],
   "source": [
    "url = 'http://localhost:5002/post-job'\n",
    "files = {'test.yaml': open('/Users/justinniestroy-admin/Documents/Work/cwl_parser/workflows/test.yaml', 'rb')}\n",
    "r = requests.post(url, files=files)\n",
    "r.json()"
   ]
  },
  {
   "cell_type": "code",
   "execution_count": null,
   "metadata": {},
   "outputs": [],
   "source": []
  },
  {
   "cell_type": "code",
   "execution_count": null,
   "metadata": {},
   "outputs": [],
   "source": []
  }
 ],
 "metadata": {
  "kernelspec": {
   "display_name": "Python 3",
   "language": "python",
   "name": "python3"
  },
  "language_info": {
   "codemirror_mode": {
    "name": "ipython",
    "version": 3
   },
   "file_extension": ".py",
   "mimetype": "text/x-python",
   "name": "python",
   "nbconvert_exporter": "python",
   "pygments_lexer": "ipython3",
   "version": "3.7.4"
  }
 },
 "nbformat": 4,
 "nbformat_minor": 2
}
